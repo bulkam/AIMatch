{
 "cells": [
  {
   "cell_type": "code",
   "execution_count": 1,
   "metadata": {},
   "outputs": [
    {
     "data": {
      "text/plain": [
       "<module 'data_preprocessing' from 'c:\\\\Users\\\\Uzivatel\\\\Documents\\\\Py\\\\AIMatch\\\\data_preprocessing.py'>"
      ]
     },
     "execution_count": 1,
     "metadata": {},
     "output_type": "execute_result"
    }
   ],
   "source": [
    "import numpy as np\n",
    "import pandas as pd\n",
    "import time\n",
    "import datetime\n",
    "from matplotlib import pyplot as plt\n",
    "import re\n",
    "import importlib\n",
    "\n",
    "import data_preprocessing as prep\n",
    "\n",
    "importlib.reload(prep)"
   ]
  },
  {
   "cell_type": "markdown",
   "metadata": {},
   "source": [
    "#### Ideas:\n",
    "\n",
    "- how to prefer recent matches?"
   ]
  },
  {
   "cell_type": "markdown",
   "metadata": {},
   "source": [
    "### Load and preprocess data"
   ]
  },
  {
   "cell_type": "code",
   "execution_count": 2,
   "metadata": {},
   "outputs": [
    {
     "data": {
      "text/html": [
       "<div>\n",
       "<style scoped>\n",
       "    .dataframe tbody tr th:only-of-type {\n",
       "        vertical-align: middle;\n",
       "    }\n",
       "\n",
       "    .dataframe tbody tr th {\n",
       "        vertical-align: top;\n",
       "    }\n",
       "\n",
       "    .dataframe thead th {\n",
       "        text-align: right;\n",
       "    }\n",
       "</style>\n",
       "<table border=\"1\" class=\"dataframe\">\n",
       "  <thead>\n",
       "    <tr style=\"text-align: right;\">\n",
       "      <th></th>\n",
       "      <th>home_team</th>\n",
       "      <th>away_team</th>\n",
       "      <th>home_score</th>\n",
       "      <th>away_score</th>\n",
       "      <th>tournament_group</th>\n",
       "      <th>home_advantage</th>\n",
       "    </tr>\n",
       "  </thead>\n",
       "  <tbody>\n",
       "    <tr>\n",
       "      <th>0</th>\n",
       "      <td>Scotland</td>\n",
       "      <td>England</td>\n",
       "      <td>0.0</td>\n",
       "      <td>0.0</td>\n",
       "      <td>Friendly</td>\n",
       "      <td>1</td>\n",
       "    </tr>\n",
       "    <tr>\n",
       "      <th>1</th>\n",
       "      <td>England</td>\n",
       "      <td>Scotland</td>\n",
       "      <td>4.0</td>\n",
       "      <td>2.0</td>\n",
       "      <td>Friendly</td>\n",
       "      <td>1</td>\n",
       "    </tr>\n",
       "    <tr>\n",
       "      <th>2</th>\n",
       "      <td>Scotland</td>\n",
       "      <td>England</td>\n",
       "      <td>2.0</td>\n",
       "      <td>1.0</td>\n",
       "      <td>Friendly</td>\n",
       "      <td>1</td>\n",
       "    </tr>\n",
       "    <tr>\n",
       "      <th>3</th>\n",
       "      <td>England</td>\n",
       "      <td>Scotland</td>\n",
       "      <td>2.0</td>\n",
       "      <td>2.0</td>\n",
       "      <td>Friendly</td>\n",
       "      <td>1</td>\n",
       "    </tr>\n",
       "    <tr>\n",
       "      <th>4</th>\n",
       "      <td>Scotland</td>\n",
       "      <td>England</td>\n",
       "      <td>3.0</td>\n",
       "      <td>0.0</td>\n",
       "      <td>Friendly</td>\n",
       "      <td>1</td>\n",
       "    </tr>\n",
       "    <tr>\n",
       "      <th>...</th>\n",
       "      <td>...</td>\n",
       "      <td>...</td>\n",
       "      <td>...</td>\n",
       "      <td>...</td>\n",
       "      <td>...</td>\n",
       "      <td>...</td>\n",
       "    </tr>\n",
       "    <tr>\n",
       "      <th>44119</th>\n",
       "      <td>Winners Match 51</td>\n",
       "      <td>Winners Match 52</td>\n",
       "      <td>NaN</td>\n",
       "      <td>NaN</td>\n",
       "      <td>World Cup</td>\n",
       "      <td>0</td>\n",
       "    </tr>\n",
       "    <tr>\n",
       "      <th>44120</th>\n",
       "      <td>Winners Match 57</td>\n",
       "      <td>Winners Match 58</td>\n",
       "      <td>NaN</td>\n",
       "      <td>NaN</td>\n",
       "      <td>World Cup</td>\n",
       "      <td>0</td>\n",
       "    </tr>\n",
       "    <tr>\n",
       "      <th>44121</th>\n",
       "      <td>Winners Match 59</td>\n",
       "      <td>Winners Match 60</td>\n",
       "      <td>NaN</td>\n",
       "      <td>NaN</td>\n",
       "      <td>World Cup</td>\n",
       "      <td>0</td>\n",
       "    </tr>\n",
       "    <tr>\n",
       "      <th>44122</th>\n",
       "      <td>Losers Match 61</td>\n",
       "      <td>Losers Match 62</td>\n",
       "      <td>NaN</td>\n",
       "      <td>NaN</td>\n",
       "      <td>World Cup</td>\n",
       "      <td>0</td>\n",
       "    </tr>\n",
       "    <tr>\n",
       "      <th>44123</th>\n",
       "      <td>Winners Match 61</td>\n",
       "      <td>Winners Match 62</td>\n",
       "      <td>NaN</td>\n",
       "      <td>NaN</td>\n",
       "      <td>World Cup</td>\n",
       "      <td>0</td>\n",
       "    </tr>\n",
       "  </tbody>\n",
       "</table>\n",
       "<p>44124 rows × 6 columns</p>\n",
       "</div>"
      ],
      "text/plain": [
       "              home_team         away_team  home_score  away_score  \\\n",
       "0              Scotland           England         0.0         0.0   \n",
       "1               England          Scotland         4.0         2.0   \n",
       "2              Scotland           England         2.0         1.0   \n",
       "3               England          Scotland         2.0         2.0   \n",
       "4              Scotland           England         3.0         0.0   \n",
       "...                 ...               ...         ...         ...   \n",
       "44119  Winners Match 51  Winners Match 52         NaN         NaN   \n",
       "44120  Winners Match 57  Winners Match 58         NaN         NaN   \n",
       "44121  Winners Match 59  Winners Match 60         NaN         NaN   \n",
       "44122   Losers Match 61   Losers Match 62         NaN         NaN   \n",
       "44123  Winners Match 61  Winners Match 62         NaN         NaN   \n",
       "\n",
       "      tournament_group  home_advantage  \n",
       "0             Friendly               1  \n",
       "1             Friendly               1  \n",
       "2             Friendly               1  \n",
       "3             Friendly               1  \n",
       "4             Friendly               1  \n",
       "...                ...             ...  \n",
       "44119        World Cup               0  \n",
       "44120        World Cup               0  \n",
       "44121        World Cup               0  \n",
       "44122        World Cup               0  \n",
       "44123        World Cup               0  \n",
       "\n",
       "[44124 rows x 6 columns]"
      ]
     },
     "metadata": {},
     "output_type": "display_data"
    }
   ],
   "source": [
    "df = prep.load_raw_data()\n",
    "df = prep.preprocess_data(df, \n",
    "        drop_columns=[\"city\", \"country\", \"tournament\", \"neutral\", \"date\"], \n",
    "        strip_columns=[\"home_team\", \"away_team\", \"tournament\"])\n",
    "display(df)"
   ]
  },
  {
   "cell_type": "markdown",
   "metadata": {},
   "source": [
    "### Split labeled and unlabeled data"
   ]
  },
  {
   "cell_type": "code",
   "execution_count": 3,
   "metadata": {},
   "outputs": [],
   "source": [
    "df_labeled = df[df.home_score.notnull()]\n",
    "df_test = df[df.home_score.isnull()]"
   ]
  },
  {
   "cell_type": "code",
   "execution_count": 28,
   "metadata": {},
   "outputs": [
    {
     "name": "stdout",
     "output_type": "stream",
     "text": [
      "{'South Korea', 'France', 'United States', 'Netherlands', 'Cameroon', 'Argentina', 'Japan', 'England', 'Wales', 'Iran', 'Ecuador', 'Serbia', 'Croatia', 'Belgium', 'Germany', 'Australia', 'Mexico', 'Portugal', 'Uruguay', 'Denmark', 'Brazil', 'Tunisia', 'Poland', 'Morocco', 'Switzerland', 'Saudi Arabia', 'Senegal', 'Qatar', 'Spain', 'Costa Rica', 'Canada', 'Ghana'} 32\n",
      "Number of relevant matches:  18532\n"
     ]
    }
   ],
   "source": [
    "def is_test_team(match, teams):\n",
    "    return match[\"home_team\"] in teams or match[\"away_team\"] in teams\n",
    "\n",
    "teams_test = set([team for team in set(df_test.home_team.unique().tolist() + df_test.away_team.unique().tolist()) if not (\"group\" in team.lower() or \"match\" in team.lower())])\n",
    "print(teams_test, len(teams_test))\n",
    "\n",
    "df_labeled_testonly = df_labeled[df_labeled.apply(lambda x: is_test_team(x, teams_test), axis=1)]\n",
    "df_test_testonly = df_test[df_test.apply(lambda x: is_test_team(x, teams_test), axis=1)]\n",
    "\n",
    "print(\"Number of relevant matches: \", len(df_labeled_testonly))"
   ]
  },
  {
   "cell_type": "markdown",
   "metadata": {},
   "source": [
    "### Data vectorization"
   ]
  },
  {
   "cell_type": "code",
   "execution_count": 12,
   "metadata": {},
   "outputs": [],
   "source": [
    "def onehot_encode(all_categories, category):\n",
    "    onehot = np.zeros(len(all_categories))\n",
    "    onehot[all_categories.index(category)] = 1\n",
    "    return onehot\n",
    "\n",
    "# Teams\n",
    "all_teams = sorted(list(set(list(teams_test) + [team for team in set(df_labeled_testonly.home_team.unique().tolist() + df_labeled_testonly.away_team.unique().tolist())])))\n",
    "team_to_onehot = dict((team, onehot_encode(all_teams, team)) for team in all_teams)\n",
    "\n",
    "# Tournament groups\n",
    "all_tournament_groups = sorted(df.tournament_group.unique().tolist())\n",
    "tournament_group_to_onehot = dict((tg, onehot_encode(all_tournament_groups, tg)) for tg in all_tournament_groups)\n",
    "\n"
   ]
  },
  {
   "cell_type": "code",
   "execution_count": 36,
   "metadata": {},
   "outputs": [
    {
     "name": "stdout",
     "output_type": "stream",
     "text": [
      "X shape =  (18532, 457)\n",
      "Y shape =  (18532, 2)\n",
      "X shape =  (48, 457)\n",
      "Y shape =  (48, 2)\n"
     ]
    }
   ],
   "source": [
    "def prepare_input_data(df: pd.DataFrame):\n",
    "    X = np.vstack(df.home_team.apply(lambda x: team_to_onehot[x]))\n",
    "    X = np.hstack([X, np.vstack(df.away_team.apply(lambda x: team_to_onehot[x]))])\n",
    "    X = np.hstack([X, np.vstack(df.tournament_group.apply(lambda x: tournament_group_to_onehot[x]))])\n",
    "    X = np.hstack([X, np.vstack(df.home_advantage)])\n",
    "\n",
    "    Y = np.hstack([np.vstack(df.home_score), np.vstack(df.away_score)])\n",
    "    # Apply y = [goal difference (home-away), winner_goals] instead of score\n",
    "    Y = np.hstack((np.vstack(Y[:, 0] - Y[:, 1]), np.vstack(Y[:, 0])))\n",
    "\n",
    "    print(\"X shape = \", X.shape)\n",
    "    print(\"Y shape = \", Y.shape)\n",
    "\n",
    "    return X, Y\n",
    "\n",
    "X_labeled, Y_labeled = prepare_input_data(df_labeled_testonly)\n",
    "X_test, _ = prepare_input_data(df_test_testonly)"
   ]
  },
  {
   "cell_type": "code",
   "execution_count": 37,
   "metadata": {},
   "outputs": [],
   "source": [
    "# Train x val split\n",
    "trainval_split = 0.7\n",
    "trainval_split_index = int(len(X_labeled) * trainval_split)\n",
    "\n",
    "X_train, Y_train = X_labeled[:trainval_split_index], Y_labeled[:trainval_split_index]\n",
    "X_val, Y_val = X_labeled[trainval_split_index:], Y_labeled[trainval_split_index:]"
   ]
  },
  {
   "cell_type": "code",
   "execution_count": null,
   "metadata": {},
   "outputs": [],
   "source": [
    "def score_sample(y, y_gt):\n",
    "    \"\"\" \n",
    "    y = predictions\n",
    "    y_gt = ground truth \n",
    "    \"\"\"\n",
    "\n",
    "    if y[0] == y_gt[0] and y[1] == y_gt[1]:\n",
    "        return 4\n",
    "    \n",
    "    if y[0] == y_gt[0] and not y[0] == 0:\n",
    "        return 3\n",
    "\n",
    "    if (y >= 0 and y_gt >= 0) or (y < 0 and y_gt < 0):\n",
    "        return 2   \n",
    "\n",
    "    return 0\n",
    "\n",
    "def score(Y, Y_gt):\n",
    "    return np.sum([score_sample(Y[i], Y_gt[i]) for i in range(len(Y))])\n"
   ]
  },
  {
   "cell_type": "code",
   "execution_count": null,
   "metadata": {},
   "outputs": [],
   "source": []
  }
 ],
 "metadata": {
  "kernelspec": {
   "display_name": "Python 3.10.1 ('aimatch')",
   "language": "python",
   "name": "python3"
  },
  "language_info": {
   "codemirror_mode": {
    "name": "ipython",
    "version": 3
   },
   "file_extension": ".py",
   "mimetype": "text/x-python",
   "name": "python",
   "nbconvert_exporter": "python",
   "pygments_lexer": "ipython3",
   "version": "3.10.1"
  },
  "orig_nbformat": 4,
  "vscode": {
   "interpreter": {
    "hash": "13a3e303851160ca62b747cf88044eb2d51bbfa9f85b99575fbbe344f87986e1"
   }
  }
 },
 "nbformat": 4,
 "nbformat_minor": 2
}
