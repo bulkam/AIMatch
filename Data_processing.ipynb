{
 "cells": [
  {
   "cell_type": "code",
   "execution_count": 5,
   "metadata": {},
   "outputs": [
    {
     "data": {
      "text/plain": [
       "<module 'data_preprocessing' from 'c:\\\\Users\\\\bmk1bj\\\\Documents\\\\GIT_repositories\\\\AIMatch\\\\data_preprocessing.py'>"
      ]
     },
     "execution_count": 5,
     "metadata": {},
     "output_type": "execute_result"
    }
   ],
   "source": [
    "import numpy as np\n",
    "import pandas as pd\n",
    "import time\n",
    "import datetime\n",
    "from matplotlib import pyplot as plt\n",
    "import re\n",
    "import importlib\n",
    "\n",
    "import data_preprocessing as prep\n",
    "\n",
    "importlib.reload(prep)"
   ]
  },
  {
   "cell_type": "markdown",
   "metadata": {},
   "source": [
    "#### Ideas:\n",
    "\n",
    "- how to prefer recent matches?"
   ]
  },
  {
   "cell_type": "markdown",
   "metadata": {},
   "source": [
    "### Load and preprocess data"
   ]
  },
  {
   "cell_type": "code",
   "execution_count": 6,
   "metadata": {},
   "outputs": [
    {
     "ename": "AttributeError",
     "evalue": "module 'data_preprocessing' has no attribute 'load_raw_data'",
     "output_type": "error",
     "traceback": [
      "\u001b[1;31m---------------------------------------------------------------------------\u001b[0m",
      "\u001b[1;31mAttributeError\u001b[0m                            Traceback (most recent call last)",
      "Cell \u001b[1;32mIn [6], line 1\u001b[0m\n\u001b[1;32m----> 1\u001b[0m df \u001b[38;5;241m=\u001b[39m \u001b[43mprep\u001b[49m\u001b[38;5;241;43m.\u001b[39;49m\u001b[43mload_raw_data\u001b[49m()\n\u001b[0;32m      2\u001b[0m df \u001b[38;5;241m=\u001b[39m prep\u001b[38;5;241m.\u001b[39mpreprocess_data(df, \n\u001b[0;32m      3\u001b[0m         drop_columns\u001b[38;5;241m=\u001b[39m[\u001b[38;5;124m\"\u001b[39m\u001b[38;5;124mcity\u001b[39m\u001b[38;5;124m\"\u001b[39m, \u001b[38;5;124m\"\u001b[39m\u001b[38;5;124mcountry\u001b[39m\u001b[38;5;124m\"\u001b[39m, \u001b[38;5;124m\"\u001b[39m\u001b[38;5;124mtournament\u001b[39m\u001b[38;5;124m\"\u001b[39m, \u001b[38;5;124m\"\u001b[39m\u001b[38;5;124mneutral\u001b[39m\u001b[38;5;124m\"\u001b[39m, \u001b[38;5;124m\"\u001b[39m\u001b[38;5;124mdate\u001b[39m\u001b[38;5;124m\"\u001b[39m], \n\u001b[0;32m      4\u001b[0m         strip_columns\u001b[38;5;241m=\u001b[39m[\u001b[38;5;124m\"\u001b[39m\u001b[38;5;124mhome_team\u001b[39m\u001b[38;5;124m\"\u001b[39m, \u001b[38;5;124m\"\u001b[39m\u001b[38;5;124maway_team\u001b[39m\u001b[38;5;124m\"\u001b[39m, \u001b[38;5;124m\"\u001b[39m\u001b[38;5;124mtournament\u001b[39m\u001b[38;5;124m\"\u001b[39m])\n\u001b[0;32m      5\u001b[0m display(df)\n",
      "\u001b[1;31mAttributeError\u001b[0m: module 'data_preprocessing' has no attribute 'load_raw_data'"
     ]
    }
   ],
   "source": [
    "df = prep.load_raw_data()\n",
    "df = prep.preprocess_data(df, \n",
    "        drop_columns=[\"city\", \"country\", \"tournament\", \"neutral\", \"date\"], \n",
    "        strip_columns=[\"home_team\", \"away_team\", \"tournament\"])\n",
    "display(df)"
   ]
  },
  {
   "cell_type": "markdown",
   "metadata": {},
   "source": [
    "### Split labeled and unlabeled data"
   ]
  },
  {
   "cell_type": "code",
   "execution_count": null,
   "metadata": {},
   "outputs": [],
   "source": [
    "df_labeled = df[df.home_score.notnull()]\n",
    "df_test = df[df.home_score.isnull()]"
   ]
  },
  {
   "cell_type": "code",
   "execution_count": null,
   "metadata": {},
   "outputs": [
    {
     "name": "stdout",
     "output_type": "stream",
     "text": [
      "{'Cameroon', 'Croatia', 'Iran', 'Australia', 'Qatar', 'Germany', 'Belgium', 'Wales', 'Mexico', 'Saudi Arabia', 'Japan', 'France', 'Spain', 'England', 'Costa Rica', 'Serbia', 'Argentina', 'Portugal', 'Tunisia', 'Brazil', 'Denmark', 'Uruguay', 'Switzerland', 'Netherlands', 'Senegal', 'United States', 'South Korea', 'Ghana', 'Poland', 'Canada', 'Morocco', 'Ecuador'} 32\n",
      "Number of relevant matches:  18532\n"
     ]
    }
   ],
   "source": [
    "def is_test_team(match, teams):\n",
    "    return match[\"home_team\"] in teams or match[\"away_team\"] in teams\n",
    "\n",
    "teams_test = set([team for team in set(df_test.home_team.unique().tolist() + df_test.away_team.unique().tolist()) if not (\"group\" in team.lower() or \"match\" in team.lower())])\n",
    "print(teams_test, len(teams_test))\n",
    "\n",
    "df_labeled_testonly = df_labeled[df_labeled.apply(lambda x: is_test_team(x, teams_test), axis=1)]\n",
    "df_test_testonly = df_test[df_test.apply(lambda x: is_test_team(x, teams_test), axis=1)]\n",
    "\n",
    "print(\"Number of relevant matches: \", len(df_labeled_testonly))"
   ]
  },
  {
   "cell_type": "markdown",
   "metadata": {},
   "source": [
    "### Data vectorization"
   ]
  },
  {
   "cell_type": "code",
   "execution_count": null,
   "metadata": {},
   "outputs": [],
   "source": [
    "def onehot_encode(all_categories, category):\n",
    "    onehot = np.zeros(len(all_categories))\n",
    "    onehot[all_categories.index(category)] = 1\n",
    "    return onehot\n",
    "\n",
    "# Teams\n",
    "all_teams = sorted(list(set(list(teams_test) + [team for team in set(df_labeled_testonly.home_team.unique().tolist() + df_labeled_testonly.away_team.unique().tolist())])))\n",
    "team_to_onehot = dict((team, onehot_encode(all_teams, team)) for team in all_teams)\n",
    "\n",
    "# Tournament groups\n",
    "all_tournament_groups = sorted(df.tournament_group.unique().tolist())\n",
    "tournament_group_to_onehot = dict((tg, onehot_encode(all_tournament_groups, tg)) for tg in all_tournament_groups)\n",
    "\n"
   ]
  },
  {
   "cell_type": "code",
   "execution_count": null,
   "metadata": {},
   "outputs": [
    {
     "name": "stdout",
     "output_type": "stream",
     "text": [
      "X shape =  (18532, 457)\n",
      "Y shape =  (18532, 2)\n",
      "X shape =  (48, 457)\n",
      "Y shape =  (48, 2)\n"
     ]
    }
   ],
   "source": [
    "def prepare_input_data(df: pd.DataFrame):\n",
    "    X = np.vstack(df.home_team.apply(lambda x: team_to_onehot[x]))\n",
    "    X = np.hstack([X, np.vstack(df.away_team.apply(lambda x: team_to_onehot[x]))])\n",
    "    X = np.hstack([X, np.vstack(df.tournament_group.apply(lambda x: tournament_group_to_onehot[x]))])\n",
    "    X = np.hstack([X, np.vstack(df.home_advantage)])\n",
    "\n",
    "    Y = np.hstack([np.vstack(df.home_score), np.vstack(df.away_score)])\n",
    "    # Apply y = [goal difference (home-away), winner_goals] instead of exact score [home_goals, away_goals]\n",
    "    #Y = np.hstack((np.vstack(Y[:, 0] - Y[:, 1]), np.vstack(np.max(Y, axis = 1))))\n",
    "\n",
    "    print(\"X shape = \", X.shape)\n",
    "    print(\"Y shape = \", Y.shape)\n",
    "\n",
    "    return X, Y\n",
    "\n",
    "X_labeled, Y_labeled = prepare_input_data(df_labeled_testonly)\n",
    "X_test, _ = prepare_input_data(df_test_testonly)"
   ]
  },
  {
   "cell_type": "markdown",
   "metadata": {},
   "source": [
    "## Split data"
   ]
  },
  {
   "cell_type": "code",
   "execution_count": null,
   "metadata": {},
   "outputs": [],
   "source": [
    "# Train x val split\n",
    "trainval_split = 0.7\n",
    "trainval_split_index = int(len(X_labeled) * trainval_split)\n",
    "\n",
    "X_train, Y_train = X_labeled[:trainval_split_index], Y_labeled[:trainval_split_index]\n",
    "X_val, Y_val = X_labeled[trainval_split_index:], Y_labeled[trainval_split_index:]"
   ]
  },
  {
   "cell_type": "markdown",
   "metadata": {},
   "source": [
    "## Final score"
   ]
  },
  {
   "cell_type": "code",
   "execution_count": null,
   "metadata": {},
   "outputs": [],
   "source": [
    "def score_sample(y, y_gt):\n",
    "    \"\"\" \n",
    "    Scoring according to the AI match rules\n",
    "    y = predictions\n",
    "    y_gt = ground truth \n",
    "    \"\"\"\n",
    "\n",
    "    if y[0] == y_gt[0] and y[1] == y_gt[1]:\n",
    "        return 4\n",
    "    \n",
    "    if y[0] == y_gt[0] and not y[0] == 0:\n",
    "        return 3\n",
    "\n",
    "    if (y[0] >= 0 and y_gt[0] >= 0) or (y[0] < 0 and y_gt[0] < 0):\n",
    "        return 2   \n",
    "\n",
    "    return 0\n",
    "\n",
    "def score(Y, Y_gt):\n",
    "    return np.sum([score_sample(Y[i], Y_gt[i]) for i in range(len(Y))])\n"
   ]
  },
  {
   "cell_type": "code",
   "execution_count": null,
   "metadata": {},
   "outputs": [
    {
     "name": "stdout",
     "output_type": "stream",
     "text": [
      "0:0 8856 / 22240  - 1.59 points per match\n",
      "1:0 9656 / 22240  - 1.74 points per match\n",
      "1:1 9020 / 22240  - 1.62 points per match\n",
      "0:1 4560 / 22240  - 0.82 points per match\n",
      "2:1 9460 / 22240  - 1.7 points per match\n",
      "2:0 9033 / 22240  - 1.62 points per match\n"
     ]
    }
   ],
   "source": [
    "# Reference values\n",
    "# = total score for validation data if results are hard-coded and all same without any prediction\n",
    "# all models should overcome those values\n",
    "max_score = 4 * len(Y_val)\n",
    "ref_score_1 = score(np.zeros(Y_val.shape), Y_val) # 0:0\n",
    "print(\"0:0\", ref_score_1, \"/\", max_score, \" - %s points per match\" % (np.round(ref_score_1/len(Y_val), 2)))\n",
    "ref_score_2 = score(np.ones(Y_val.shape), Y_val) # 1:0\n",
    "print(\"1:0\", ref_score_2, \"/\", max_score, \" - %s points per match\" % (np.round(ref_score_2/len(Y_val), 2)))\n",
    "Y_pred = np.ones(Y_val.shape) # 1:1\n",
    "Y_pred[:, 0] = 0\n",
    "ref_score_3 = score(Y_pred, Y_val) \n",
    "print(\"1:1\", ref_score_3, \"/\", max_score, \" - %s points per match\" % (np.round(ref_score_3/len(Y_val), 2)))\n",
    "Y_pred = np.ones(Y_val.shape) # 0:1\n",
    "Y_pred[:, 0] = -1\n",
    "ref_score_3 = score(Y_pred, Y_val) \n",
    "print(\"0:1\", ref_score_3, \"/\", max_score, \" - %s points per match\" % (np.round(ref_score_3/len(Y_val), 2)))\n",
    "Y_pred = np.ones(Y_val.shape) # 2:1\n",
    "Y_pred[:, 1] = 2\n",
    "ref_score_3 = score(Y_pred, Y_val) \n",
    "print(\"2:1\", ref_score_3, \"/\", max_score, \" - %s points per match\" % (np.round(ref_score_3/len(Y_val), 2)))\n",
    "Y_pred = 2 * np.ones(Y_val.shape) # 2:0\n",
    "ref_score_3 = score(Y_pred, Y_val) \n",
    "print(\"2:0\", ref_score_3, \"/\", max_score, \" - %s points per match\" % (np.round(ref_score_3/len(Y_val), 2)))"
   ]
  },
  {
   "cell_type": "code",
   "execution_count": null,
   "metadata": {},
   "outputs": [],
   "source": [
    "def prediction_to_goals(y):\n",
    "    \"\"\" Encoding back to the exact result \n",
    "    [goal_diff, home_goals] -> [home_goals, away_goals]\n",
    "    \"\"\"\n",
    "    return np.hstack([y[1], y[1] - y[0]])\n",
    "\n",
    "def predictions_to_goals(Y):\n",
    "    \"\"\" Encoding back to the exact result for whole data set\n",
    "    [goal_diff, home_goals] -> [home_goals, away_goals]\n",
    "    \"\"\"\n",
    "    return np.vstack([prediction_to_goals(Y[i]) for i in range(len(Y))])"
   ]
  },
  {
   "cell_type": "code",
   "execution_count": null,
   "metadata": {},
   "outputs": [
    {
     "name": "stdout",
     "output_type": "stream",
     "text": [
      "Tree\n",
      "8834 / 22240  - 1.59 points per match\n",
      "Morocco  x  Zimbabwe :  [2.5 0. ] - [1. 0.]\n",
      "Senegal  x  DR Congo :  [2. 1.] - [0. 0.]\n",
      "Tunisia  x  Ghana :  [2. 2.] - [2. 0.]\n",
      "Morocco  x  Angola :  [3. 1.] - [2. 2.]\n",
      "Saudi Arabia  x  Sweden :  [1. 1.] - [1. 1.]\n",
      "Test\n",
      "Qatar  x  Ecuador :  [2. 2.] - [0. 0.]\n",
      "England  x  Iran :  [1. 1.] - [0. 0.]\n",
      "Senegal  x  Netherlands :  [2. 2.] - [0. 0.]\n",
      "United States  x  Wales :  [2. 0.] - [0. 0.]\n",
      "Argentina  x  Saudi Arabia :  [1. 0.] - [0. 0.]\n",
      "Linear\n",
      "9495 / 22240  - 1.71 points per match\n",
      "Morocco  x  Zimbabwe :  [5.36328125 2.62890625] - [1. 0.]\n",
      "Senegal  x  DR Congo :  [ 1.8046875 -0.265625 ] - [0. 0.]\n",
      "Tunisia  x  Ghana :  [1.22265625 0.91015625] - [2. 0.]\n",
      "Morocco  x  Angola :  [2.4296875 0.4453125] - [2. 2.]\n",
      "Saudi Arabia  x  Sweden :  [1.27734375 2.59765625] - [1. 1.]\n",
      "Test\n",
      "Qatar  x  Ecuador :  [2.30859375 2.10546875] - [0. 0.]\n",
      "England  x  Iran :  [2.1640625 0.7890625] - [0. 0.]\n",
      "Senegal  x  Netherlands :  [0.984375 2.546875] - [0. 0.]\n",
      "United States  x  Wales :  [1.53125  0.671875] - [0. 0.]\n",
      "Argentina  x  Saudi Arabia :  [ 2.34375   -0.4921875] - [0. 0.]\n",
      "MLP\n",
      "9020 / 22240  - 1.62 points per match\n",
      "Morocco  x  Zimbabwe :  [4.17996156 1.15175708] - [1. 0.]\n",
      "Senegal  x  DR Congo :  [ 2.72586443 -0.24957979] - [0. 0.]\n",
      "Tunisia  x  Ghana :  [1.81545826 1.80787576] - [2. 0.]\n",
      "Morocco  x  Angola :  [2.96585179 0.82858452] - [2. 2.]\n",
      "Saudi Arabia  x  Sweden :  [1.25021384 1.22255812] - [1. 1.]\n",
      "Test\n",
      "Qatar  x  Ecuador :  [3.08540764 3.16827276] - [0. 0.]\n",
      "England  x  Iran :  [2.22271972 0.83440621] - [0. 0.]\n",
      "Senegal  x  Netherlands :  [0.58452736 1.87428209] - [0. 0.]\n",
      "United States  x  Wales :  [ 2.5623066  -0.27085211] - [0. 0.]\n",
      "Argentina  x  Saudi Arabia :  [3.84856773 0.20879953] - [0. 0.]\n"
     ]
    },
    {
     "name": "stderr",
     "output_type": "stream",
     "text": [
      "c:\\Users\\bmk1bj\\.conda\\envs\\aimatch\\lib\\site-packages\\sklearn\\neural_network\\_multilayer_perceptron.py:702: ConvergenceWarning: Stochastic Optimizer: Maximum iterations (200) reached and the optimization hasn't converged yet.\n",
      "  warnings.warn(\n"
     ]
    }
   ],
   "source": [
    "from sklearn.model_selection import cross_val_score\n",
    "from sklearn.tree import DecisionTreeRegressor\n",
    "from sklearn.linear_model import LinearRegression\n",
    "from sklearn.svm import SVR\n",
    "from sklearn.neural_network import MLPRegressor\n",
    "\n",
    "\n",
    "\n",
    "def show_predictions(X, Y, Y_pred, indexes):\n",
    "    for i in indexes:\n",
    "        x = X[i]\n",
    "        home_team_part = x[:len(all_teams)]\n",
    "        away_team_part = x[len(all_teams):2*len(all_teams)]\n",
    "        home_team = all_teams[np.where(home_team_part == 1)[0][0]]\n",
    "        away_team = all_teams[np.where(away_team_part == 1)[0][0]]\n",
    "        print(home_team, \" x \", away_team, \": \", prediction_to_goals(Y_pred[i]), \"-\", prediction_to_goals(Y[i]))\n",
    "\n",
    "\n",
    "def fit_simple_regressor(X_train, Y_train, X_val, Y_val, regressor, name: str, show_predicted_indexes = [0, 1, 2, 3, 4]):\n",
    "    regressor.fit(X_train, Y_train)\n",
    "    Y_val_pred = regressor.predict(X_val)\n",
    "    Y_test_pred = regressor.predict(X_test)\n",
    "    reg_score = score(np.round(Y_val_pred), Y_val)\n",
    "    print(name)\n",
    "    print(reg_score, \"/\", max_score, \" - %s points per match\" % (np.round(reg_score/len(Y_val), 2)))\n",
    "    \n",
    "    show_predictions(X_val, Y_val, Y_val_pred, show_predicted_indexes)\n",
    "    print(\"Test\")\n",
    "    show_predictions(X_test, np.zeros(Y_test_pred.shape), Y_test_pred, show_predicted_indexes)\n",
    "    \n",
    "\n",
    "\n",
    "models = {\n",
    "    \"Tree\": DecisionTreeRegressor(random_state=0),\n",
    "    \"Linear\": LinearRegression(),\n",
    "    \"MLP\": MLPRegressor(hidden_layer_sizes = (64, 16))\n",
    "}\n",
    "\n",
    "\n",
    "trainable = 0.1\n",
    "start = int((1 - trainable) * len(X_train))\n",
    "for name, model in models. items():\n",
    "    fit_simple_regressor(X_train[start:], Y_train[start:], X_val, Y_val, model, name)\n"
   ]
  },
  {
   "cell_type": "code",
   "execution_count": 10,
   "metadata": {},
   "outputs": [
    {
     "name": "stdout",
     "output_type": "stream",
     "text": [
      "Number of relevant labeled matches: 18532/44060\n",
      "X shape =  (18532, 457)\n",
      "Y shape =  (18532, 2)\n",
      "X shape =  (48, 457)\n",
      "Y shape =  (48, 2)\n"
     ]
    }
   ],
   "source": [
    "# Assign weights to samples\n",
    "dataset = prep.Dataset()\n",
    "X_train, Y_train, X_val, Y_val, X_test = dataset.get_input_data() # see which parameters can be modified"
   ]
  },
  {
   "cell_type": "code",
   "execution_count": 25,
   "metadata": {},
   "outputs": [
    {
     "name": "stdout",
     "output_type": "stream",
     "text": [
      "Number of relevant labeled matches: 18532/44060\n"
     ]
    },
    {
     "ename": "KeyError",
     "evalue": "'sample_weights'",
     "output_type": "error",
     "traceback": [
      "\u001b[1;31m---------------------------------------------------------------------------\u001b[0m",
      "\u001b[1;31mKeyError\u001b[0m                                  Traceback (most recent call last)",
      "File \u001b[1;32mc:\\Users\\bmk1bj\\.conda\\envs\\aimatch\\lib\\site-packages\\pandas\\core\\indexes\\base.py:3803\u001b[0m, in \u001b[0;36mIndex.get_loc\u001b[1;34m(self, key, method, tolerance)\u001b[0m\n\u001b[0;32m   3802\u001b[0m \u001b[39mtry\u001b[39;00m:\n\u001b[1;32m-> 3803\u001b[0m     \u001b[39mreturn\u001b[39;00m \u001b[39mself\u001b[39;49m\u001b[39m.\u001b[39;49m_engine\u001b[39m.\u001b[39;49mget_loc(casted_key)\n\u001b[0;32m   3804\u001b[0m \u001b[39mexcept\u001b[39;00m \u001b[39mKeyError\u001b[39;00m \u001b[39mas\u001b[39;00m err:\n",
      "File \u001b[1;32mc:\\Users\\bmk1bj\\.conda\\envs\\aimatch\\lib\\site-packages\\pandas\\_libs\\index.pyx:138\u001b[0m, in \u001b[0;36mpandas._libs.index.IndexEngine.get_loc\u001b[1;34m()\u001b[0m\n",
      "File \u001b[1;32mc:\\Users\\bmk1bj\\.conda\\envs\\aimatch\\lib\\site-packages\\pandas\\_libs\\index.pyx:165\u001b[0m, in \u001b[0;36mpandas._libs.index.IndexEngine.get_loc\u001b[1;34m()\u001b[0m\n",
      "File \u001b[1;32mpandas\\_libs\\hashtable_class_helper.pxi:5745\u001b[0m, in \u001b[0;36mpandas._libs.hashtable.PyObjectHashTable.get_item\u001b[1;34m()\u001b[0m\n",
      "File \u001b[1;32mpandas\\_libs\\hashtable_class_helper.pxi:5753\u001b[0m, in \u001b[0;36mpandas._libs.hashtable.PyObjectHashTable.get_item\u001b[1;34m()\u001b[0m\n",
      "\u001b[1;31mKeyError\u001b[0m: 'sample_weights'",
      "\nThe above exception was the direct cause of the following exception:\n",
      "\u001b[1;31mKeyError\u001b[0m                                  Traceback (most recent call last)",
      "Cell \u001b[1;32mIn [25], line 2\u001b[0m\n\u001b[0;32m      1\u001b[0m importlib\u001b[38;5;241m.\u001b[39mreload(prep)\n\u001b[1;32m----> 2\u001b[0m X_train, Y_train, X_val, Y_val, X_test, sample_weights_train, sample_weights_val \u001b[38;5;241m=\u001b[39m \u001b[43mprep\u001b[49m\u001b[38;5;241;43m.\u001b[39;49m\u001b[43mDataset\u001b[49m\u001b[43m(\u001b[49m\u001b[43m)\u001b[49m\u001b[38;5;241;43m.\u001b[39;49m\u001b[43mget_input_data\u001b[49m\u001b[43m(\u001b[49m\u001b[43msample_weights_degree\u001b[49m\u001b[38;5;241;43m=\u001b[39;49m\u001b[38;5;241;43m2\u001b[39;49m\u001b[43m)\u001b[49m\n",
      "File \u001b[1;32mc:\\Users\\bmk1bj\\Documents\\GIT_repositories\\AIMatch\\data_preprocessing.py:173\u001b[0m, in \u001b[0;36mDataset.get_input_data\u001b[1;34m(self, drop_columns, strip_columns, add_tournament_group, predict_values, label_weights, trainval_split, sample_weights_degree)\u001b[0m\n\u001b[0;32m    170\u001b[0m     \u001b[39mself\u001b[39m\u001b[39m.\u001b[39mall_tournament_groups \u001b[39m=\u001b[39m \u001b[39msorted\u001b[39m(\u001b[39mself\u001b[39m\u001b[39m.\u001b[39mdf\u001b[39m.\u001b[39mtournament_group\u001b[39m.\u001b[39munique()\u001b[39m.\u001b[39mtolist())\n\u001b[0;32m    171\u001b[0m     \u001b[39mself\u001b[39m\u001b[39m.\u001b[39mtournament_group_to_onehot \u001b[39m=\u001b[39m \u001b[39mdict\u001b[39m((tg, onehot_encode(\u001b[39mself\u001b[39m\u001b[39m.\u001b[39mall_tournament_groups, tg)) \u001b[39mfor\u001b[39;00m tg \u001b[39min\u001b[39;00m \u001b[39mself\u001b[39m\u001b[39m.\u001b[39mall_tournament_groups)\n\u001b[1;32m--> 173\u001b[0m \u001b[39mself\u001b[39m\u001b[39m.\u001b[39mX_labeled, \u001b[39mself\u001b[39m\u001b[39m.\u001b[39mY_labeled, \u001b[39mself\u001b[39m\u001b[39m.\u001b[39msample_weights_labeled \u001b[39m=\u001b[39m \u001b[39mself\u001b[39;49m\u001b[39m.\u001b[39;49mprepare_input_data(\u001b[39mself\u001b[39;49m\u001b[39m.\u001b[39;49mdf_labeled_testonly, predict_values\u001b[39m=\u001b[39;49mpredict_values, tournament_group_added\u001b[39m=\u001b[39;49madd_tournament_group, label_weights\u001b[39m=\u001b[39;49mlabel_weights)\n\u001b[0;32m    174\u001b[0m X_test, _, _ \u001b[39m=\u001b[39m \u001b[39mself\u001b[39m\u001b[39m.\u001b[39mprepare_input_data(\u001b[39mself\u001b[39m\u001b[39m.\u001b[39mdf_test_testonly, label_weights\u001b[39m=\u001b[39mlabel_weights)\n\u001b[0;32m    176\u001b[0m \u001b[39m# Train x val split\u001b[39;00m\n",
      "File \u001b[1;32mc:\\Users\\bmk1bj\\Documents\\GIT_repositories\\AIMatch\\data_preprocessing.py:128\u001b[0m, in \u001b[0;36mDataset.prepare_input_data\u001b[1;34m(self, df, predict_values, tournament_group_added, label_weights)\u001b[0m\n\u001b[0;32m    125\u001b[0m \u001b[39mself\u001b[39m\u001b[39m.\u001b[39mlabel_weights \u001b[39m=\u001b[39m label_weights\n\u001b[0;32m    126\u001b[0m Y \u001b[39m=\u001b[39m Y \u001b[39m*\u001b[39m label_weights\n\u001b[1;32m--> 128\u001b[0m sample_weights \u001b[39m=\u001b[39m np\u001b[39m.\u001b[39marray(df[\u001b[39m\"\u001b[39;49m\u001b[39msample_weights\u001b[39;49m\u001b[39m\"\u001b[39;49m])\n\u001b[0;32m    130\u001b[0m \u001b[39mprint\u001b[39m(\u001b[39m\"\u001b[39m\u001b[39mX shape = \u001b[39m\u001b[39m\"\u001b[39m, X\u001b[39m.\u001b[39mshape)\n\u001b[0;32m    131\u001b[0m \u001b[39mprint\u001b[39m(\u001b[39m\"\u001b[39m\u001b[39mY shape = \u001b[39m\u001b[39m\"\u001b[39m, Y\u001b[39m.\u001b[39mshape)\n",
      "File \u001b[1;32mc:\\Users\\bmk1bj\\.conda\\envs\\aimatch\\lib\\site-packages\\pandas\\core\\frame.py:3804\u001b[0m, in \u001b[0;36mDataFrame.__getitem__\u001b[1;34m(self, key)\u001b[0m\n\u001b[0;32m   3802\u001b[0m \u001b[39mif\u001b[39;00m \u001b[39mself\u001b[39m\u001b[39m.\u001b[39mcolumns\u001b[39m.\u001b[39mnlevels \u001b[39m>\u001b[39m \u001b[39m1\u001b[39m:\n\u001b[0;32m   3803\u001b[0m     \u001b[39mreturn\u001b[39;00m \u001b[39mself\u001b[39m\u001b[39m.\u001b[39m_getitem_multilevel(key)\n\u001b[1;32m-> 3804\u001b[0m indexer \u001b[39m=\u001b[39m \u001b[39mself\u001b[39;49m\u001b[39m.\u001b[39;49mcolumns\u001b[39m.\u001b[39;49mget_loc(key)\n\u001b[0;32m   3805\u001b[0m \u001b[39mif\u001b[39;00m is_integer(indexer):\n\u001b[0;32m   3806\u001b[0m     indexer \u001b[39m=\u001b[39m [indexer]\n",
      "File \u001b[1;32mc:\\Users\\bmk1bj\\.conda\\envs\\aimatch\\lib\\site-packages\\pandas\\core\\indexes\\base.py:3805\u001b[0m, in \u001b[0;36mIndex.get_loc\u001b[1;34m(self, key, method, tolerance)\u001b[0m\n\u001b[0;32m   3803\u001b[0m     \u001b[39mreturn\u001b[39;00m \u001b[39mself\u001b[39m\u001b[39m.\u001b[39m_engine\u001b[39m.\u001b[39mget_loc(casted_key)\n\u001b[0;32m   3804\u001b[0m \u001b[39mexcept\u001b[39;00m \u001b[39mKeyError\u001b[39;00m \u001b[39mas\u001b[39;00m err:\n\u001b[1;32m-> 3805\u001b[0m     \u001b[39mraise\u001b[39;00m \u001b[39mKeyError\u001b[39;00m(key) \u001b[39mfrom\u001b[39;00m \u001b[39merr\u001b[39;00m\n\u001b[0;32m   3806\u001b[0m \u001b[39mexcept\u001b[39;00m \u001b[39mTypeError\u001b[39;00m:\n\u001b[0;32m   3807\u001b[0m     \u001b[39m# If we have a listlike key, _check_indexing_error will raise\u001b[39;00m\n\u001b[0;32m   3808\u001b[0m     \u001b[39m#  InvalidIndexError. Otherwise we fall through and re-raise\u001b[39;00m\n\u001b[0;32m   3809\u001b[0m     \u001b[39m#  the TypeError.\u001b[39;00m\n\u001b[0;32m   3810\u001b[0m     \u001b[39mself\u001b[39m\u001b[39m.\u001b[39m_check_indexing_error(key)\n",
      "\u001b[1;31mKeyError\u001b[0m: 'sample_weights'"
     ]
    }
   ],
   "source": [
    "importlib.reload(prep)\n",
    "X_train, Y_train, X_val, Y_val, X_test, sample_weights_train, sample_weights_val = prep.Dataset().get_input_data(sample_weights_degree=2) # see which parameters can be modified"
   ]
  },
  {
   "cell_type": "code",
   "execution_count": 23,
   "metadata": {},
   "outputs": [
    {
     "data": {
      "image/png": "[encoded data removed]",
      "text/plain": [
       "<Figure size 640x480 with 1 Axes>"
      ]
     },
     "metadata": {},
     "output_type": "display_data"
    }
   ],
   "source": [
    "importlib.reload(prep)\n",
    "dataset.df_labeled = prep.add_sample_weights(dataset.df_labeled, degree=2)\n",
    "plt.plot(dataset.df_labeled[\"sample_weight\"])\n",
    "plt.show()"
   ]
  }
 ],
 "metadata": {
  "kernelspec": {
   "display_name": "Python 3.10.4 64-bit ('aimatch')",
   "language": "python",
   "name": "python3"
  },
  "language_info": {
   "codemirror_mode": {
    "name": "ipython",
    "version": 3
   },
   "file_extension": ".py",
   "mimetype": "text/x-python",
   "name": "python",
   "nbconvert_exporter": "python",
   "pygments_lexer": "ipython3",
   "version": "3.10.4"
  },
  "orig_nbformat": 4,
  "vscode": {
   "interpreter": {
    "hash": "4a3365a4b8fa4d6ece79b74aaf4d470e19d76ad19faef395b86ac40fc70274d1"
   }
  }
 },
 "nbformat": 4,
 "nbformat_minor": 2
}
