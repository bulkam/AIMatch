{
 "cells": [
  {
   "cell_type": "code",
   "execution_count": 24,
   "metadata": {},
   "outputs": [
    {
     "data": {
      "text/plain": [
       "<module 'data_preprocessing' from 'c:\\\\Users\\\\bmk1bj\\\\Documents\\\\GIT_repositories\\\\AIMatch\\\\data_preprocessing.py'>"
      ]
     },
     "execution_count": 24,
     "metadata": {},
     "output_type": "execute_result"
    }
   ],
   "source": [
    "import numpy as np\n",
    "import pandas as pd\n",
    "import data_preprocessing as prep\n",
    "import importlib\n",
    "\n",
    "importlib.reload(prep)"
   ]
  },
  {
   "cell_type": "markdown",
   "metadata": {},
   "source": [
    "### Ideas\n",
    "\n",
    "- Split train and val randomly\n",
    "- y = [home_goals - away_goals, total goals]\n",
    "- model with two unrelated outputs\n",
    "- sample_weight extended by tournament_group\n",
    "- consider team strength trend this year (or this cup)\n"
   ]
  },
  {
   "cell_type": "code",
   "execution_count": 25,
   "metadata": {},
   "outputs": [
    {
     "name": "stdout",
     "output_type": "stream",
     "text": [
      "Number of relevant labeled matches: 18532/44060\n",
      "X shape =  (18532, 457)\n",
      "Y shape =  (18532, 2)\n",
      "sample weights shape =  (18532,)\n",
      "X shape =  (48, 457)\n",
      "Y shape =  (48, 2)\n",
      "sample weights shape =  (48,)\n"
     ]
    }
   ],
   "source": [
    "dataset = prep.Dataset()\n",
    "X_train, Y_train, X_val, Y_val, X_test, sample_weights_train, sample_weights_val = dataset.get_input_data(label_weights=[1, 1], sample_weights_degree=2)"
   ]
  },
  {
   "cell_type": "code",
   "execution_count": 30,
   "metadata": {},
   "outputs": [
    {
     "name": "stdout",
     "output_type": "stream",
     "text": [
      "0:0 8856 / 22240  - 1.59 points per match\n",
      "1:0 9656 / 22240  - 1.74 points per match\n",
      "1:1 9020 / 22240  - 1.62 points per match\n",
      "0:1 4560 / 22240  - 0.82 points per match\n",
      "2:1 9460 / 22240  - 1.7 points per match\n",
      "2:0 9033 / 22240  - 1.62 points per match\n"
     ]
    }
   ],
   "source": [
    "def score_sample(y_pred, y_true, label_weights):\n",
    "    \"\"\" \n",
    "    Scoring according to the AI match rules\n",
    "    y_pred = predictions\n",
    "    y_true = ground truth \n",
    "    \"\"\"\n",
    "    \n",
    "    y = np.around(y_pred / label_weights)\n",
    "    y_gt = np.around(y_true / label_weights)\n",
    "    #print(y, y_pred, y_true, y_gt)\n",
    "\n",
    "    if y[0] == y_gt[0] and y[1] == y_gt[1]:\n",
    "        return 4\n",
    "    \n",
    "    if y[0] == y_gt[0] and not y[0] == 0:\n",
    "        return 3\n",
    "\n",
    "    if (y[0] >= 0 and y_gt[0] >= 0) or (y[0] < 0 and y_gt[0] < 0):\n",
    "        return 2   \n",
    "\n",
    "    return 0\n",
    "\n",
    "def score(Y, Y_gt, label_weights=[1, 1]):\n",
    "    return np.sum([score_sample(Y[i], Y_gt[i], np.array(label_weights)) for i in range(len(Y))])\n",
    "\n",
    "# Reference values\n",
    "# = total score for validation data if results are hard-coded and all same without any prediction\n",
    "# all models should overcome those values\n",
    "max_score = 4 * len(Y_val)\n",
    "ref_score_1 = score(np.zeros(Y_val.shape) * dataset.label_weights, Y_val, label_weights=dataset.label_weights) # 0:0\n",
    "print(\"0:0\", ref_score_1, \"/\", max_score, \" - %s points per match\" % (np.round(ref_score_1/len(Y_val), 2)))\n",
    "ref_score_2 = score(np.ones(Y_val.shape) * dataset.label_weights, Y_val, label_weights=dataset.label_weights) # 1:0\n",
    "print(\"1:0\", ref_score_2, \"/\", max_score, \" - %s points per match\" % (np.round(ref_score_2/len(Y_val), 2)))\n",
    "Y_pred = np.ones(Y_val.shape) * dataset.label_weights # 1:1\n",
    "Y_pred[:, 0] = 0\n",
    "ref_score_3 = score(Y_pred, Y_val, label_weights=dataset.label_weights) \n",
    "print(\"1:1\", ref_score_3, \"/\", max_score, \" - %s points per match\" % (np.round(ref_score_3/len(Y_val), 2)))\n",
    "Y_pred = np.ones(Y_val.shape) * dataset.label_weights # 0:1\n",
    "Y_pred[:, 0] = -1\n",
    "ref_score_3 = score(Y_pred, Y_val, label_weights=dataset.label_weights) \n",
    "print(\"0:1\", ref_score_3, \"/\", max_score, \" - %s points per match\" % (np.round(ref_score_3/len(Y_val), 2)))\n",
    "Y_pred = np.ones(Y_val.shape) # 2:1\n",
    "Y_pred[:, 1] = 2\n",
    "ref_score_3 = score(Y_pred * dataset.label_weights, Y_val, label_weights=dataset.label_weights) \n",
    "print(\"2:1\", ref_score_3, \"/\", max_score, \" - %s points per match\" % (np.round(ref_score_3/len(Y_val), 2)))\n",
    "Y_pred = 2 * np.ones(Y_val.shape) # 2:0\n",
    "ref_score_3 = score(Y_pred * dataset.label_weights, Y_val, label_weights=dataset.label_weights) \n",
    "print(\"2:0\", ref_score_3, \"/\", max_score, \" - %s points per match\" % (np.round(ref_score_3/len(Y_val), 2)))"
   ]
  },
  {
   "cell_type": "code",
   "execution_count": 31,
   "metadata": {},
   "outputs": [],
   "source": [
    "def prediction_to_goals(y_weighted, label_weights):\n",
    "    \"\"\" Encoding back to the exact result \n",
    "    [goal_diff, home_goals] -> [home_goals, away_goals]\n",
    "    \"\"\"\n",
    "    y = y_weighted / np.array(label_weights)\n",
    "    return np.hstack([y[1], y[1] - y[0]])\n",
    "\n",
    "def predictions_to_goals(Y, label_weights):\n",
    "    \"\"\" Encoding back to the exact result for whole data set\n",
    "    [goal_diff, home_goals] -> [home_goals, away_goals]\n",
    "    \"\"\"\n",
    "    return np.vstack([prediction_to_goals(Y[i], label_weights) for i in range(len(Y))])"
   ]
  },
  {
   "cell_type": "code",
   "execution_count": 37,
   "metadata": {},
   "outputs": [
    {
     "name": "stdout",
     "output_type": "stream",
     "text": [
      "Linear\n",
      "Linear\n",
      "9470 / 22240  - 1.7 points per match\n",
      "Val:\n",
      "Nigeria  x  Ghana :  [1.77148438 1.84570312] - [1. 0.]  ...................  output (weighted):  [-0.07421875  1.77148438] [1. 1.]    original:  [-0.07421875  1.77148438] [1. 1.]\n",
      "Zimbabwe  x  Senegal :  [3.58707674e+11 2.75740670e+10] - [2. 4.]  ...................  output (weighted):  [3.31133607e+11 3.58707674e+11] [-2.  2.]    original:  [3.31133607e+11 3.58707674e+11] [-2.  2.]\n",
      "Egypt  x  Morocco :  [2.41992188 1.15429688] - [0. 0.]  ...................  output (weighted):  [1.265625   2.41992188] [0. 0.]    original:  [1.265625   2.41992188] [0. 0.]\n",
      "Cameroon  x  Togo :  [1.05078125 1.1484375 ] - [2. 0.]  ...................  output (weighted):  [-0.09765625  1.05078125] [2. 2.]    original:  [-0.09765625  1.05078125] [2. 2.]\n",
      "Ecuador  x  Honduras :  [2.5      1.390625] - [1. 0.]  ...................  output (weighted):  [1.109375 2.5     ] [1. 1.]    original:  [1.109375 2.5     ] [1. 1.]\n",
      "Finland  x  South Korea :  [1.95117188 2.58789062] - [1. 2.]  ...................  output (weighted):  [-0.63671875  1.95117188] [-1.  1.]    original:  [-0.63671875  1.95117188] [-1.  1.]\n",
      "Mexico  x  Norway :  [1.046875 1.0625  ] - [2. 1.]  ...................  output (weighted):  [-0.015625  1.046875] [1. 2.]    original:  [-0.015625  1.046875] [1. 2.]\n",
      "Saudi Arabia  x  Greece :  [1.140625  2.3828125] - [1. 1.]  ...................  output (weighted):  [-1.2421875  1.140625 ] [0. 1.]    original:  [-1.2421875  1.140625 ] [0. 1.]\n",
      "Tunisia  x  South Africa :  [1.73242188 1.05273438] - [2. 0.]  ...................  output (weighted):  [0.6796875  1.73242188] [2. 2.]    original:  [0.6796875  1.73242188] [2. 2.]\n",
      "Ghana  x  Senegal :  [1.01367188 1.79101562] - [1. 0.]  ...................  output (weighted):  [-0.77734375  1.01367188] [1. 1.]    original:  [-0.77734375  1.01367188] [1. 1.]\n",
      "Saudi Arabia  x  Lebanon :  [1.96679688 0.75585938] - [2. 3.]  ...................  output (weighted):  [1.2109375  1.96679688] [-1.  2.]    original:  [1.2109375  1.96679688] [-1.  2.]\n",
      "Libya  x  Morocco :  [1.16210938 2.58789062] - [0. 0.]  ...................  output (weighted):  [-1.42578125  1.16210938] [0. 0.]    original:  [-1.42578125  1.16210938] [0. 0.]\n",
      "Test:\n",
      "Switzerland  x  Cameroon :  [1.06640625 1.0078125 ] - [0. 0.]  ...................  output (weighted):  [0.05859375 1.06640625] [0. 0.]    original:  [0.05859375 1.06640625] [0. 0.]\n",
      "Uruguay  x  South Korea :  [1.41992188 0.43164062] - [0. 0.]  ...................  output (weighted):  [0.98828125 1.41992188] [0. 0.]    original:  [0.98828125 1.41992188] [0. 0.]\n",
      "Portugal  x  Ghana :  [2.296875 0.875   ] - [0. 0.]  ...................  output (weighted):  [1.421875 2.296875] [0. 0.]    original:  [1.421875 2.296875] [0. 0.]\n",
      "Brazil  x  Serbia :  [2.36328125 0.97265625] - [0. 0.]  ...................  output (weighted):  [1.390625   2.36328125] [0. 0.]    original:  [1.390625   2.36328125] [0. 0.]\n",
      "Wales  x  Iran :  [1.33203125 1.0859375 ] - [0. 0.]  ...................  output (weighted):  [0.24609375 1.33203125] [0. 0.]    original:  [0.24609375 1.33203125] [0. 0.]\n",
      "Qatar  x  Senegal :  [1.7734375  2.10546875] - [0. 0.]  ...................  output (weighted):  [-0.33203125  1.7734375 ] [0. 0.]    original:  [-0.33203125  1.7734375 ] [0. 0.]\n",
      "Netherlands  x  Ecuador :  [2.3671875 0.265625 ] - [0. 0.]  ...................  output (weighted):  [2.1015625 2.3671875] [0. 0.]    original:  [2.1015625 2.3671875] [0. 0.]\n",
      "England  x  United States :  [2.16601562 1.08398438] - [0. 0.]  ...................  output (weighted):  [1.08203125 2.16601562] [0. 0.]    original:  [1.08203125 2.16601562] [0. 0.]\n",
      "Tunisia  x  Australia :  [1.41601562 1.81054688] - [0. 0.]  ...................  output (weighted):  [-0.39453125  1.41601562] [0. 0.]    original:  [-0.39453125  1.41601562] [0. 0.]\n",
      "Poland  x  Saudi Arabia :  [2.2109375 0.0703125] - [0. 0.]  ...................  output (weighted):  [2.140625  2.2109375] [0. 0.]    original:  [2.140625  2.2109375] [0. 0.]\n",
      "France  x  Denmark :  [2.2734375 2.28125  ] - [0. 0.]  ...................  output (weighted):  [-0.0078125  2.2734375] [0. 0.]    original:  [-0.0078125  2.2734375] [0. 0.]\n",
      "Argentina  x  Mexico :  [2.25      1.2265625] - [0. 0.]  ...................  output (weighted):  [1.0234375 2.25     ] [0. 0.]    original:  [1.0234375 2.25     ] [0. 0.]\n",
      "MLP\n"
     ]
    },
    {
     "name": "stderr",
     "output_type": "stream",
     "text": [
      "c:\\Users\\bmk1bj\\.conda\\envs\\aimatch\\lib\\site-packages\\sklearn\\neural_network\\_multilayer_perceptron.py:1607: DataConversionWarning: A column-vector y was passed when a 1d array was expected. Please change the shape of y to (n_samples, ), for example using ravel().\n",
      "  y = column_or_1d(y, warn=True)\n"
     ]
    },
    {
     "name": "stdout",
     "output_type": "stream",
     "text": [
      "Sample weights unused\n"
     ]
    },
    {
     "name": "stderr",
     "output_type": "stream",
     "text": [
      "c:\\Users\\bmk1bj\\.conda\\envs\\aimatch\\lib\\site-packages\\sklearn\\neural_network\\_multilayer_perceptron.py:1607: DataConversionWarning: A column-vector y was passed when a 1d array was expected. Please change the shape of y to (n_samples, ), for example using ravel().\n",
      "  y = column_or_1d(y, warn=True)\n"
     ]
    },
    {
     "name": "stdout",
     "output_type": "stream",
     "text": [
      "Sample weights unused\n",
      "MLP\n",
      "9568 / 22240  - 1.72 points per match\n",
      "Val:\n",
      "Nigeria  x  Ghana :  [1.73392692 1.59527168] - [1. 0.]  ...................  output (weighted):  [0.13865525 1.73392692] [1. 1.]    original:  [0.13865525 1.73392692] [1. 1.]\n",
      "Zimbabwe  x  Senegal :  [1.44860759 2.21675082] - [2. 4.]  ...................  output (weighted):  [-0.76814323  1.44860759] [-2.  2.]    original:  [-0.76814323  1.44860759] [-2.  2.]\n",
      "Egypt  x  Morocco :  [2.31517371 0.93529114] - [0. 0.]  ...................  output (weighted):  [1.37988257 2.31517371] [0. 0.]    original:  [1.37988257 2.31517371] [0. 0.]\n",
      "Cameroon  x  Togo :  [1.03478286 0.99596118] - [2. 0.]  ...................  output (weighted):  [0.03882169 1.03478286] [2. 2.]    original:  [0.03882169 1.03478286] [2. 2.]\n",
      "Ecuador  x  Honduras :  [2.53717031 1.40304999] - [1. 0.]  ...................  output (weighted):  [1.13412032 2.53717031] [1. 1.]    original:  [1.13412032 2.53717031] [1. 1.]\n",
      "Finland  x  South Korea :  [2.04282495 2.75519962] - [1. 2.]  ...................  output (weighted):  [-0.71237466  2.04282495] [-1.  1.]    original:  [-0.71237466  2.04282495] [-1.  1.]\n",
      "Mexico  x  Norway :  [1.10633318 1.13157978] - [2. 1.]  ...................  output (weighted):  [-0.0252466   1.10633318] [1. 2.]    original:  [-0.0252466   1.10633318] [1. 2.]\n",
      "Saudi Arabia  x  Greece :  [1.25500028 2.44214074] - [1. 1.]  ...................  output (weighted):  [-1.18714046  1.25500028] [0. 1.]    original:  [-1.18714046  1.25500028] [0. 1.]\n",
      "Tunisia  x  South Africa :  [1.63092506 0.8362466 ] - [2. 0.]  ...................  output (weighted):  [0.79467845 1.63092506] [2. 2.]    original:  [0.79467845 1.63092506] [2. 2.]\n",
      "Ghana  x  Senegal :  [0.97943898 1.83458035] - [1. 0.]  ...................  output (weighted):  [-0.85514137  0.97943898] [1. 1.]    original:  [-0.85514137  0.97943898] [1. 1.]\n",
      "Saudi Arabia  x  Lebanon :  [1.98180977 0.77817927] - [2. 3.]  ...................  output (weighted):  [1.2036305  1.98180977] [-1.  2.]    original:  [1.2036305  1.98180977] [-1.  2.]\n",
      "Libya  x  Morocco :  [1.10734136 2.53093697] - [0. 0.]  ...................  output (weighted):  [-1.42359561  1.10734136] [0. 0.]    original:  [-1.42359561  1.10734136] [0. 0.]\n",
      "Test:\n",
      "Switzerland  x  Cameroon :  [1.16442658 1.34019168] - [0. 0.]  ...................  output (weighted):  [-0.1757651   1.16442658] [0. 0.]    original:  [-0.1757651   1.16442658] [0. 0.]\n",
      "Uruguay  x  South Korea :  [1.55973074 0.77337927] - [0. 0.]  ...................  output (weighted):  [0.78635147 1.55973074] [0. 0.]    original:  [0.78635147 1.55973074] [0. 0.]\n",
      "Portugal  x  Ghana :  [2.38572093 0.9804565 ] - [0. 0.]  ...................  output (weighted):  [1.40526443 2.38572093] [0. 0.]    original:  [1.40526443 2.38572093] [0. 0.]\n",
      "Brazil  x  Serbia :  [2.41738641 1.15182766] - [0. 0.]  ...................  output (weighted):  [1.26555875 2.41738641] [0. 0.]    original:  [1.26555875 2.41738641] [0. 0.]\n",
      "Wales  x  Iran :  [1.42955533 1.09612709] - [0. 0.]  ...................  output (weighted):  [0.33342824 1.42955533] [0. 0.]    original:  [0.33342824 1.42955533] [0. 0.]\n",
      "Qatar  x  Senegal :  [1.91230658 2.3981288 ] - [0. 0.]  ...................  output (weighted):  [-0.48582222  1.91230658] [0. 0.]    original:  [-0.48582222  1.91230658] [0. 0.]\n",
      "Netherlands  x  Ecuador :  [2.44148792 0.3589624 ] - [0. 0.]  ...................  output (weighted):  [2.08252552 2.44148792] [0. 0.]    original:  [2.08252552 2.44148792] [0. 0.]\n",
      "England  x  United States :  [2.31326326 1.33468504] - [0. 0.]  ...................  output (weighted):  [0.97857822 2.31326326] [0. 0.]    original:  [0.97857822 2.31326326] [0. 0.]\n",
      "Tunisia  x  Australia :  [1.39472973 1.89339246] - [0. 0.]  ...................  output (weighted):  [-0.49866273  1.39472973] [0. 0.]    original:  [-0.49866273  1.39472973] [0. 0.]\n",
      "Poland  x  Saudi Arabia :  [2.2725818  0.30995634] - [0. 0.]  ...................  output (weighted):  [1.96262546 2.2725818 ] [0. 0.]    original:  [1.96262546 2.2725818 ] [0. 0.]\n",
      "France  x  Denmark :  [2.31830047 2.42795305] - [0. 0.]  ...................  output (weighted):  [-0.10965257  2.31830047] [0. 0.]    original:  [-0.10965257  2.31830047] [0. 0.]\n",
      "Argentina  x  Mexico :  [2.29167716 1.37508997] - [0. 0.]  ...................  output (weighted):  [0.91658719 2.29167716] [0. 0.]    original:  [0.91658719 2.29167716] [0. 0.]\n"
     ]
    }
   ],
   "source": [
    "from sklearn.model_selection import cross_val_score\n",
    "from sklearn.tree import DecisionTreeRegressor\n",
    "from sklearn.linear_model import LinearRegression\n",
    "from sklearn.svm import SVR\n",
    "from sklearn.neural_network import MLPRegressor\n",
    "from sklearn.metrics import make_scorer\n",
    "\n",
    "\n",
    "\n",
    "def show_predictions(X, Y, Y_pred, indexes, label_weights):\n",
    "    for i in indexes:\n",
    "        x = X[i]\n",
    "        home_team_part = x[:len(dataset.all_teams)]\n",
    "        away_team_part = x[len(dataset.all_teams):2*len(dataset.all_teams)]\n",
    "        home_team = dataset.all_teams[np.where(home_team_part == 1)[0][0]]\n",
    "        away_team = dataset.all_teams[np.where(away_team_part == 1)[0][0]]\n",
    "        print(home_team, \" x \", away_team, \": \", prediction_to_goals(Y_pred[i], label_weights), \"-\", prediction_to_goals(Y[i], label_weights), \" ...................  output (weighted): \", Y_pred[i], Y[i], \"   original: \", Y_pred[i]/label_weights, Y[i]/label_weights)\n",
    "\n",
    "\n",
    "def fit_simple_regressor(X_train, Y_train, X_val, Y_val, X_test, sample_weights_train, regressor, name: str, label_weights: list, show_predicted_indexes = [0, 1], split_models=False):\n",
    "    print(name)\n",
    "    Y_val_pred, Y_test_pred = np.zeros(Y_val.shape), np.zeros((X_test.shape[0], Y_val.shape[1]))\n",
    "    \n",
    "    if split_models:\n",
    "        try:\n",
    "            regressor.fit(X_train, Y_train[:, 0].reshape(-1, 1),  sample_weight = sample_weights_train)        \n",
    "        except:\n",
    "            regressor.fit(X_train, Y_train[:, 0].reshape(-1, 1))\n",
    "            print(\"Sample weights unused\")\n",
    "            \n",
    "        Y_val_pred = regressor.predict(X_val).reshape(-1, 1)\n",
    "        Y_test_pred = regressor.predict(X_test).reshape(-1, 1)\n",
    "        \n",
    "        try:\n",
    "            regressor.fit(X_train, Y_train[:, 1].reshape(-1, 1),  sample_weight = sample_weights_train)        \n",
    "        except:\n",
    "            regressor.fit(X_train, Y_train[:, 1].reshape(-1, 1))\n",
    "            print(\"Sample weights unused\")\n",
    "        Y_val_pred = np.hstack((Y_val_pred, regressor.predict(X_val).reshape(-1, 1)))\n",
    "        Y_test_pred = np.hstack((Y_test_pred, regressor.predict(X_test).reshape(-1, 1)))\n",
    "        \n",
    "    else:\n",
    "        try:\n",
    "            regressor.fit(X_train, Y_train,  sample_weight = sample_weights_train)        \n",
    "        except:\n",
    "            regressor.fit(X_train, Y_train)\n",
    "            print(\"Sample weights unused\")\n",
    "        \n",
    "        Y_val_pred = regressor.predict(X_val)\n",
    "        Y_test_pred = regressor.predict(X_test)\n",
    "        \n",
    "        \n",
    "    reg_score = score(np.round(Y_val_pred), Y_val, label_weights=label_weights)\n",
    "    print(name)\n",
    "    print(reg_score, \"/\", max_score, \" - %s points per match\" % (np.round(reg_score/len(Y_val), 2)))\n",
    "    \n",
    "    print(\"Val:\")\n",
    "    show_predictions(X_val, Y_val, Y_val_pred, show_predicted_indexes, label_weights)\n",
    "    print(\"Test:\")\n",
    "    show_predictions(X_test, np.zeros(Y_test_pred.shape), Y_test_pred, show_predicted_indexes, label_weights)\n",
    "    \n",
    "\n",
    "models = {\n",
    "    #\"Tree\": DecisionTreeRegressor(random_state=0),\n",
    "    \"Linear\": LinearRegression(),\n",
    "    \"MLP\": MLPRegressor(hidden_layer_sizes = (128, 32, 8), activation=\"identity\")\n",
    "}\n",
    "\n",
    "\n",
    "trainable = 0.1\n",
    "start = int((1 - trainable) * len(X_train))\n",
    "for name, model in models. items():\n",
    "    fit_simple_regressor(X_train[start:], Y_train[start:], X_val, Y_val, X_test,\n",
    "                         sample_weights_train[start:], model, name, \n",
    "                         show_predicted_indexes = [r for r in range(12,24)], label_weights=dataset.label_weights,\n",
    "                         split_models = True\n",
    "                         )\n"
   ]
  }
 ],
 "metadata": {
  "kernelspec": {
   "display_name": "Python 3.10.4 64-bit ('aimatch')",
   "language": "python",
   "name": "python3"
  },
  "language_info": {
   "codemirror_mode": {
    "name": "ipython",
    "version": 3
   },
   "file_extension": ".py",
   "mimetype": "text/x-python",
   "name": "python",
   "nbconvert_exporter": "python",
   "pygments_lexer": "ipython3",
   "version": "3.10.4"
  },
  "orig_nbformat": 4,
  "vscode": {
   "interpreter": {
    "hash": "4a3365a4b8fa4d6ece79b74aaf4d470e19d76ad19faef395b86ac40fc70274d1"
   }
  }
 },
 "nbformat": 4,
 "nbformat_minor": 2
}
