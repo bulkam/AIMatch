{
 "cells": [
  {
   "cell_type": "code",
   "execution_count": 93,
   "metadata": {},
   "outputs": [
    {
     "data": {
      "text/plain": [
       "<module 'data_preprocessing' from 'c:\\\\Users\\\\bmk1bj\\\\Documents\\\\GIT_repositories\\\\AIMatch\\\\data_preprocessing.py'>"
      ]
     },
     "execution_count": 93,
     "metadata": {},
     "output_type": "execute_result"
    }
   ],
   "source": [
    "import numpy as np\n",
    "import pandas as pd\n",
    "import data_preprocessing as prep\n",
    "import importlib\n",
    "\n",
    "importlib.reload(prep)"
   ]
  },
  {
   "cell_type": "code",
   "execution_count": 102,
   "metadata": {},
   "outputs": [
    {
     "name": "stdout",
     "output_type": "stream",
     "text": [
      "Number of relevant labeled matches: 18532/44060\n",
      "X shape =  (18532, 457)\n",
      "Y shape =  (18532, 2)\n",
      "X shape =  (48, 457)\n",
      "Y shape =  (48, 2)\n"
     ]
    }
   ],
   "source": [
    "dataset = prep.Dataset()\n",
    "X_train, Y_train, X_val, Y_val, X_test = dataset.get_input_data(label_weights=[2, 0.5])"
   ]
  },
  {
   "cell_type": "code",
   "execution_count": 103,
   "metadata": {},
   "outputs": [
    {
     "name": "stdout",
     "output_type": "stream",
     "text": [
      "0:0 8856 / 22240  - 1.59 points per match\n",
      "1:0 9656 / 22240  - 1.74 points per match\n",
      "1:1 9020 / 22240  - 1.62 points per match\n",
      "0:1 9020 / 22240  - 1.62 points per match\n",
      "2:1 9460 / 22240  - 1.7 points per match\n",
      "2:0 9033 / 22240  - 1.62 points per match\n"
     ]
    }
   ],
   "source": [
    "def score_sample(y_pred, y_true, label_weights):\n",
    "    \"\"\" \n",
    "    Scoring according to the AI match rules\n",
    "    y_pred = predictions\n",
    "    y_true = ground truth \n",
    "    \"\"\"\n",
    "    \n",
    "    y = np.around(y_pred / label_weights)\n",
    "    y_gt = np.around(y_true / label_weights)\n",
    "    #print(y, y_pred, y_true, y_gt)\n",
    "\n",
    "    if y[0] == y_gt[0] and y[1] == y_gt[1]:\n",
    "        return 4\n",
    "    \n",
    "    if y[0] == y_gt[0] and not y[0] == 0:\n",
    "        return 3\n",
    "\n",
    "    if (y[0] >= 0 and y_gt[0] >= 0) or (y[0] < 0 and y_gt[0] < 0):\n",
    "        return 2   \n",
    "\n",
    "    return 0\n",
    "\n",
    "def score(Y, Y_gt, label_weights=[1, 1]):\n",
    "    return np.sum([score_sample(Y[i], Y_gt[i], np.array(label_weights)) for i in range(len(Y))])\n",
    "\n",
    "# Reference values\n",
    "# = total score for validation data if results are hard-coded and all same without any prediction\n",
    "# all models should overcome those values\n",
    "max_score = 4 * len(Y_val)\n",
    "ref_score_1 = score(np.zeros(Y_val.shape) * dataset.label_weights, Y_val, label_weights=dataset.label_weights) # 0:0\n",
    "print(\"0:0\", ref_score_1, \"/\", max_score, \" - %s points per match\" % (np.round(ref_score_1/len(Y_val), 2)))\n",
    "ref_score_2 = score(np.ones(Y_val.shape) * dataset.label_weights, Y_val, label_weights=dataset.label_weights) # 1:0\n",
    "print(\"1:0\", ref_score_2, \"/\", max_score, \" - %s points per match\" % (np.round(ref_score_2/len(Y_val), 2)))\n",
    "Y_pred = np.ones(Y_val.shape) * dataset.label_weights # 1:1\n",
    "Y_pred[:, 0] = 0\n",
    "ref_score_3 = score(Y_pred, Y_val, label_weights=dataset.label_weights) \n",
    "print(\"1:1\", ref_score_3, \"/\", max_score, \" - %s points per match\" % (np.round(ref_score_3/len(Y_val), 2)))\n",
    "Y_pred = np.ones(Y_val.shape) * dataset.label_weights # 0:1\n",
    "Y_pred[:, 0] = -1\n",
    "ref_score_3 = score(Y_pred, Y_val, label_weights=dataset.label_weights) \n",
    "print(\"0:1\", ref_score_3, \"/\", max_score, \" - %s points per match\" % (np.round(ref_score_3/len(Y_val), 2)))\n",
    "Y_pred = np.ones(Y_val.shape) # 2:1\n",
    "Y_pred[:, 1] = 2\n",
    "ref_score_3 = score(Y_pred * dataset.label_weights, Y_val, label_weights=dataset.label_weights) \n",
    "print(\"2:1\", ref_score_3, \"/\", max_score, \" - %s points per match\" % (np.round(ref_score_3/len(Y_val), 2)))\n",
    "Y_pred = 2 * np.ones(Y_val.shape) # 2:0\n",
    "ref_score_3 = score(Y_pred * dataset.label_weights, Y_val, label_weights=dataset.label_weights) \n",
    "print(\"2:0\", ref_score_3, \"/\", max_score, \" - %s points per match\" % (np.round(ref_score_3/len(Y_val), 2)))"
   ]
  },
  {
   "cell_type": "code",
   "execution_count": 104,
   "metadata": {},
   "outputs": [],
   "source": [
    "def prediction_to_goals(y_weighted, label_weights):\n",
    "    \"\"\" Encoding back to the exact result \n",
    "    [goal_diff, home_goals] -> [home_goals, away_goals]\n",
    "    \"\"\"\n",
    "    y = y_weighted / np.array(label_weights)\n",
    "    return np.hstack([y[1], y[1] - y[0]])\n",
    "\n",
    "def predictions_to_goals(Y, label_weights):\n",
    "    \"\"\" Encoding back to the exact result for whole data set\n",
    "    [goal_diff, home_goals] -> [home_goals, away_goals]\n",
    "    \"\"\"\n",
    "    return np.vstack([prediction_to_goals(Y[i], label_weights) for i in range(len(Y))])"
   ]
  },
  {
   "cell_type": "code",
   "execution_count": 107,
   "metadata": {},
   "outputs": [
    {
     "name": "stdout",
     "output_type": "stream",
     "text": [
      "Linear\n",
      "9524 / 22240  - 1.71 points per match\n",
      "Val:\n",
      "Morocco  x  Zimbabwe :  [2.24121094 2.03613281] - [1. 0.]  ...................  output (weighted):  [0.41015625 1.12060547] [2.  0.5]    original:  [0.20507812 2.24121094] [1. 1.]\n",
      "Senegal  x  DR Congo :  [ 2.47753906 -0.48535156] - [0. 0.]  ...................  output (weighted):  [5.92578125 1.23876953] [0. 0.]    original:  [2.96289062 2.47753906] [0. 0.]\n",
      "Tunisia  x  Ghana :  [1.15527344 0.38183594] - [2. 0.]  ...................  output (weighted):  [1.546875   0.57763672] [4. 1.]    original:  [0.7734375  1.15527344] [2. 2.]\n",
      "Morocco  x  Angola :  [2.5546875  0.63671875] - [2. 2.]  ...................  output (weighted):  [3.8359375  1.27734375] [0. 1.]    original:  [1.91796875 2.5546875 ] [0. 2.]\n",
      "Saudi Arabia  x  Sweden :  [1.12695312 2.30273438] - [1. 1.]  ...................  output (weighted):  [-2.3515625   0.56347656] [0.  0.5]    original:  [-1.17578125  1.12695312] [0. 1.]\n",
      "United Arab Emirates  x  South Korea :  [2.14550781 3.85839844] - [1. 0.]  ...................  output (weighted):  [-3.42578125  1.07275391] [2.  0.5]    original:  [-1.71289062  2.14550781] [1. 1.]\n",
      "Cameroon  x  Angola :  [2.640625   0.93359375] - [3. 1.]  ...................  output (weighted):  [3.4140625 1.3203125] [4.  1.5]    original:  [1.70703125 2.640625  ] [2. 3.]\n",
      "Greece  x  South Korea :  [1.21484375 1.1171875 ] - [1. 1.]  ...................  output (weighted):  [0.1953125  0.60742188] [0.  0.5]    original:  [0.09765625 1.21484375] [0. 1.]\n",
      "Morocco  x  Ivory Coast :  [1.96289062 2.17578125] - [1. 2.]  ...................  output (weighted):  [-0.42578125  0.98144531] [-2.   0.5]    original:  [-0.21289062  1.96289062] [-1.  1.]\n",
      "Test:\n",
      "Qatar  x  Ecuador :  [1.48730469 1.90917969] - [0. 0.]  ...................  output (weighted):  [-0.84375     0.74365234] [0. 0.]    original:  [-0.421875    1.48730469] [0. 0.]\n",
      "England  x  Iran :  [2.15039062 0.91992188] - [0. 0.]  ...................  output (weighted):  [2.4609375  1.07519531] [0. 0.]    original:  [1.23046875 2.15039062] [0. 0.]\n",
      "Senegal  x  Netherlands :  [1.01660156 2.57519531] - [0. 0.]  ...................  output (weighted):  [-3.1171875   0.50830078] [0. 0.]    original:  [-1.55859375  1.01660156] [0. 0.]\n",
      "United States  x  Wales :  [1.64648438 0.93554688] - [0. 0.]  ...................  output (weighted):  [1.421875   0.82324219] [0. 0.]    original:  [0.7109375  1.64648438] [0. 0.]\n",
      "Argentina  x  Saudi Arabia :  [2.68652344 0.58886719] - [0. 0.]  ...................  output (weighted):  [4.1953125  1.34326172] [0. 0.]    original:  [2.09765625 2.68652344] [0. 0.]\n",
      "Denmark  x  Tunisia :  [1.7578125 1.0703125] - [0. 0.]  ...................  output (weighted):  [1.375      0.87890625] [0. 0.]    original:  [0.6875    1.7578125] [0. 0.]\n",
      "Mexico  x  Poland :  [2.41503906 2.11816406] - [0. 0.]  ...................  output (weighted):  [0.59375    1.20751953] [0. 0.]    original:  [0.296875   2.41503906] [0. 0.]\n",
      "France  x  Australia :  [2.49414062 1.30078125] - [0. 0.]  ...................  output (weighted):  [2.38671875 1.24707031] [0. 0.]    original:  [1.19335938 2.49414062] [0. 0.]\n",
      "Morocco  x  Croatia :  [1.06152344 1.79980469] - [0. 0.]  ...................  output (weighted):  [-1.4765625   0.53076172] [0. 0.]    original:  [-0.73828125  1.06152344] [0. 0.]\n",
      "MLP\n",
      "9284 / 22240  - 1.67 points per match\n",
      "Val:\n",
      "Morocco  x  Zimbabwe :  [1.00730491 1.26955077] - [1. 0.]  ...................  output (weighted):  [-0.52449172  0.50365245] [2.  0.5]    original:  [-0.26224586  1.00730491] [1. 1.]\n",
      "Senegal  x  DR Congo :  [3.57913746 0.03093854] - [0. 0.]  ...................  output (weighted):  [7.09639785 1.78956873] [0. 0.]    original:  [3.54819893 3.57913746] [0. 0.]\n",
      "Tunisia  x  Ghana :  [1.63548074 0.62300962] - [2. 0.]  ...................  output (weighted):  [2.02494224 0.81774037] [4. 1.]    original:  [1.01247112 1.63548074] [2. 2.]\n",
      "Morocco  x  Angola :  [2.68376621 0.55713299] - [2. 2.]  ...................  output (weighted):  [4.25326645 1.34188311] [0. 1.]    original:  [2.12663322 2.68376621] [0. 2.]\n",
      "Saudi Arabia  x  Sweden :  [0.73440786 0.88238943] - [1. 1.]  ...................  output (weighted):  [-0.29596314  0.36720393] [0.  0.5]    original:  [-0.14798157  0.73440786] [0. 1.]\n",
      "United Arab Emirates  x  South Korea :  [1.84833976 3.81520503] - [1. 0.]  ...................  output (weighted):  [-3.93373052  0.92416988] [2.  0.5]    original:  [-1.96686526  1.84833976] [1. 1.]\n",
      "Cameroon  x  Angola :  [3.05363494 0.63730472] - [3. 1.]  ...................  output (weighted):  [4.83266044 1.52681747] [4.  1.5]    original:  [2.41633022 3.05363494] [2. 3.]\n",
      "Greece  x  South Korea :  [1.02580253 1.15489293] - [1. 1.]  ...................  output (weighted):  [-0.25818081  0.51290126] [0.  0.5]    original:  [-0.1290904   1.02580253] [0. 1.]\n",
      "Morocco  x  Ivory Coast :  [1.59921391 0.13981466] - [1. 2.]  ...................  output (weighted):  [2.9187985  0.79960696] [-2.   0.5]    original:  [1.45939925 1.59921391] [-1.  1.]\n",
      "Test:\n",
      "Qatar  x  Ecuador :  [1.1934249  0.11529092] - [0. 0.]  ...................  output (weighted):  [2.15626795 0.59671245] [0. 0.]    original:  [1.07813398 1.1934249 ] [0. 0.]\n",
      "England  x  Iran :  [1.46145862 0.36547161] - [0. 0.]  ...................  output (weighted):  [2.19197401 0.73072931] [0. 0.]    original:  [1.09598701 1.46145862] [0. 0.]\n",
      "Senegal  x  Netherlands :  [2.55213014 4.65397806] - [0. 0.]  ...................  output (weighted):  [-4.20369584  1.27606507] [0. 0.]    original:  [-2.10184792  2.55213014] [0. 0.]\n",
      "United States  x  Wales :  [1.16561365 0.27685431] - [0. 0.]  ...................  output (weighted):  [1.77751869 0.58280683] [0. 0.]    original:  [0.88875934 1.16561365] [0. 0.]\n",
      "Argentina  x  Saudi Arabia :  [ 4.38212365 -0.07288986] - [0. 0.]  ...................  output (weighted):  [8.91002702 2.19106183] [0. 0.]    original:  [4.45501351 4.38212365] [0. 0.]\n",
      "Denmark  x  Tunisia :  [1.94233718 0.3826812 ] - [0. 0.]  ...................  output (weighted):  [3.11931197 0.97116859] [0. 0.]    original:  [1.55965598 1.94233718] [0. 0.]\n",
      "Mexico  x  Poland :  [2.40851856 0.61972156] - [0. 0.]  ...................  output (weighted):  [3.57759401 1.20425928] [0. 0.]    original:  [1.788797   2.40851856] [0. 0.]\n",
      "France  x  Australia :  [0.52469514 0.49487187] - [0. 0.]  ...................  output (weighted):  [0.05964655 0.26234757] [0. 0.]    original:  [0.02982328 0.52469514] [0. 0.]\n",
      "Morocco  x  Croatia :  [1.21775333 0.77135208] - [0. 0.]  ...................  output (weighted):  [0.8928025  0.60887667] [0. 0.]    original:  [0.44640125 1.21775333] [0. 0.]\n"
     ]
    }
   ],
   "source": [
    "from sklearn.model_selection import cross_val_score\n",
    "from sklearn.tree import DecisionTreeRegressor\n",
    "from sklearn.linear_model import LinearRegression\n",
    "from sklearn.svm import SVR\n",
    "from sklearn.neural_network import MLPRegressor\n",
    "from sklearn.metrics import make_scorer\n",
    "\n",
    "\n",
    "\n",
    "def show_predictions(X, Y, Y_pred, indexes, label_weights):\n",
    "    for i in indexes:\n",
    "        x = X[i]\n",
    "        home_team_part = x[:len(dataset.all_teams)]\n",
    "        away_team_part = x[len(dataset.all_teams):2*len(dataset.all_teams)]\n",
    "        home_team = dataset.all_teams[np.where(home_team_part == 1)[0][0]]\n",
    "        away_team = dataset.all_teams[np.where(away_team_part == 1)[0][0]]\n",
    "        print(home_team, \" x \", away_team, \": \", prediction_to_goals(Y_pred[i], label_weights), \"-\", prediction_to_goals(Y[i], label_weights), \" ...................  output (weighted): \", Y_pred[i], Y[i], \"   original: \", Y_pred[i]/label_weights, Y[i]/label_weights)\n",
    "\n",
    "\n",
    "def fit_simple_regressor(X_train, Y_train, X_val, Y_val, regressor, name: str, label_weights: list, show_predicted_indexes = [0, 1]):\n",
    "    regressor.fit(X_train, Y_train,  )\n",
    "    Y_val_pred = regressor.predict(X_val)\n",
    "    Y_test_pred = regressor.predict(X_test)\n",
    "    reg_score = score(np.round(Y_val_pred), Y_val, label_weights=label_weights)\n",
    "    print(name)\n",
    "    print(reg_score, \"/\", max_score, \" - %s points per match\" % (np.round(reg_score/len(Y_val), 2)))\n",
    "    \n",
    "    print(\"Val:\")\n",
    "    show_predictions(X_val, Y_val, Y_val_pred, show_predicted_indexes, label_weights)\n",
    "    print(\"Test:\")\n",
    "    show_predictions(X_test, np.zeros(Y_test_pred.shape), Y_test_pred, show_predicted_indexes, label_weights)\n",
    "    \n",
    "\n",
    "models = {\n",
    "    #\"Tree\": DecisionTreeRegressor(random_state=0),\n",
    "    \"Linear\": LinearRegression(),\n",
    "    \"MLP\": MLPRegressor(hidden_layer_sizes = (128, 32, 8), activation=\"relu\")\n",
    "}\n",
    "\n",
    "\n",
    "trainable = 0.2\n",
    "start = int((1 - trainable) * len(X_train))\n",
    "for name, model in models. items():\n",
    "    fit_simple_regressor(X_train[start:], Y_train[start:], X_val, Y_val, model, name, show_predicted_indexes = [0, 1, 2, 3, 4, 5, 6, 7, 8], label_weights=dataset.label_weights)\n"
   ]
  }
 ],
 "metadata": {
  "kernelspec": {
   "display_name": "Python 3.10.4 64-bit ('aimatch')",
   "language": "python",
   "name": "python3"
  },
  "language_info": {
   "codemirror_mode": {
    "name": "ipython",
    "version": 3
   },
   "file_extension": ".py",
   "mimetype": "text/x-python",
   "name": "python",
   "nbconvert_exporter": "python",
   "pygments_lexer": "ipython3",
   "version": "3.10.4"
  },
  "orig_nbformat": 4,
  "vscode": {
   "interpreter": {
    "hash": "4a3365a4b8fa4d6ece79b74aaf4d470e19d76ad19faef395b86ac40fc70274d1"
   }
  }
 },
 "nbformat": 4,
 "nbformat_minor": 2
}
