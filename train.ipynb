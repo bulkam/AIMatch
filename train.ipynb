{
 "cells": [
  {
   "cell_type": "code",
   "execution_count": 9,
   "metadata": {},
   "outputs": [
    {
     "data": {
      "text/plain": [
       "<module 'data_preprocessing' from 'c:\\\\Users\\\\bmk1bj\\\\Documents\\\\GIT_repositories\\\\AIMatch\\\\data_preprocessing.py'>"
      ]
     },
     "execution_count": 9,
     "metadata": {},
     "output_type": "execute_result"
    }
   ],
   "source": [
    "import numpy as np\n",
    "import pandas as pd\n",
    "import data_preprocessing as prep\n",
    "import importlib\n",
    "\n",
    "importlib.reload(prep)"
   ]
  },
  {
   "cell_type": "code",
   "execution_count": 12,
   "metadata": {},
   "outputs": [
    {
     "name": "stdout",
     "output_type": "stream",
     "text": [
      "Number of relevant labeled matches: 18532/44060\n",
      "X shape =  (18532, 457)\n",
      "Y shape =  (18532, 2)\n",
      "X shape =  (48, 457)\n",
      "Y shape =  (48, 2)\n"
     ]
    }
   ],
   "source": [
    "dataset = prep.Dataset()\n",
    "X_train, Y_train, X_val, Y_val, X_test = dataset.get_input_data(label_weights=[0.5, 0.1])"
   ]
  },
  {
   "cell_type": "code",
   "execution_count": 4,
   "metadata": {},
   "outputs": [
    {
     "name": "stdout",
     "output_type": "stream",
     "text": [
      "0:0 8856 / 22240  - 1.59 points per match\n",
      "1:0 9656 / 22240  - 1.74 points per match\n",
      "1:1 9020 / 22240  - 1.62 points per match\n",
      "0:1 9020 / 22240  - 1.62 points per match\n",
      "2:1 9460 / 22240  - 1.7 points per match\n",
      "2:0 9033 / 22240  - 1.62 points per match\n"
     ]
    }
   ],
   "source": [
    "def score_sample(y_pred, y_true, label_weights):\n",
    "    \"\"\" \n",
    "    Scoring according to the AI match rules\n",
    "    y_pred = predictions\n",
    "    y_true = ground truth \n",
    "    \"\"\"\n",
    "    \n",
    "    y = np.around(y_pred / label_weights)\n",
    "    y_gt = np.around(y_true / label_weights)\n",
    "    #print(y, y_pred, y_true, y_gt)\n",
    "\n",
    "    if y[0] == y_gt[0] and y[1] == y_gt[1]:\n",
    "        return 4\n",
    "    \n",
    "    if y[0] == y_gt[0] and not y[0] == 0:\n",
    "        return 3\n",
    "\n",
    "    if (y[0] >= 0 and y_gt[0] >= 0) or (y[0] < 0 and y_gt[0] < 0):\n",
    "        return 2   \n",
    "\n",
    "    return 0\n",
    "\n",
    "def score(Y, Y_gt, label_weights=[1, 1]):\n",
    "    return np.sum([score_sample(Y[i], Y_gt[i], np.array(label_weights)) for i in range(len(Y))])\n",
    "\n",
    "# Reference values\n",
    "# = total score for validation data if results are hard-coded and all same without any prediction\n",
    "# all models should overcome those values\n",
    "max_score = 4 * len(Y_val)\n",
    "ref_score_1 = score(np.zeros(Y_val.shape) * dataset.label_weights, Y_val, label_weights=dataset.label_weights) # 0:0\n",
    "print(\"0:0\", ref_score_1, \"/\", max_score, \" - %s points per match\" % (np.round(ref_score_1/len(Y_val), 2)))\n",
    "ref_score_2 = score(np.ones(Y_val.shape) * dataset.label_weights, Y_val, label_weights=dataset.label_weights) # 1:0\n",
    "print(\"1:0\", ref_score_2, \"/\", max_score, \" - %s points per match\" % (np.round(ref_score_2/len(Y_val), 2)))\n",
    "Y_pred = np.ones(Y_val.shape) * dataset.label_weights # 1:1\n",
    "Y_pred[:, 0] = 0\n",
    "ref_score_3 = score(Y_pred, Y_val, label_weights=dataset.label_weights) \n",
    "print(\"1:1\", ref_score_3, \"/\", max_score, \" - %s points per match\" % (np.round(ref_score_3/len(Y_val), 2)))\n",
    "Y_pred = np.ones(Y_val.shape) * dataset.label_weights # 0:1\n",
    "Y_pred[:, 0] = -1\n",
    "ref_score_3 = score(Y_pred, Y_val, label_weights=dataset.label_weights) \n",
    "print(\"0:1\", ref_score_3, \"/\", max_score, \" - %s points per match\" % (np.round(ref_score_3/len(Y_val), 2)))\n",
    "Y_pred = np.ones(Y_val.shape) # 2:1\n",
    "Y_pred[:, 1] = 2\n",
    "ref_score_3 = score(Y_pred * dataset.label_weights, Y_val, label_weights=dataset.label_weights) \n",
    "print(\"2:1\", ref_score_3, \"/\", max_score, \" - %s points per match\" % (np.round(ref_score_3/len(Y_val), 2)))\n",
    "Y_pred = 2 * np.ones(Y_val.shape) # 2:0\n",
    "ref_score_3 = score(Y_pred * dataset.label_weights, Y_val, label_weights=dataset.label_weights) \n",
    "print(\"2:0\", ref_score_3, \"/\", max_score, \" - %s points per match\" % (np.round(ref_score_3/len(Y_val), 2)))"
   ]
  },
  {
   "cell_type": "code",
   "execution_count": 5,
   "metadata": {},
   "outputs": [],
   "source": [
    "def prediction_to_goals(y_weighted, label_weights):\n",
    "    \"\"\" Encoding back to the exact result \n",
    "    [goal_diff, home_goals] -> [home_goals, away_goals]\n",
    "    \"\"\"\n",
    "    y = y_weighted / np.array(label_weights)\n",
    "    return np.hstack([y[1], y[1] - y[0]])\n",
    "\n",
    "def predictions_to_goals(Y, label_weights):\n",
    "    \"\"\" Encoding back to the exact result for whole data set\n",
    "    [goal_diff, home_goals] -> [home_goals, away_goals]\n",
    "    \"\"\"\n",
    "    return np.vstack([prediction_to_goals(Y[i], label_weights) for i in range(len(Y))])"
   ]
  },
  {
   "cell_type": "code",
   "execution_count": 14,
   "metadata": {},
   "outputs": [
    {
     "name": "stdout",
     "output_type": "stream",
     "text": [
      "Linear\n",
      "9180 / 22240  - 1.65 points per match\n",
      "Val:\n",
      "United Arab Emirates  x  South Korea :  [2.59765625 4.94140625] - [1. 0.]  ...................  output (weighted):  [-1.171875    0.25976562] [0.5 0.1]    original:  [-2.34375     2.59765625] [1. 1.]\n",
      "Cameroon  x  Angola :  [2.08007812 0.80664062] - [3. 1.]  ...................  output (weighted):  [0.63671875 0.20800781] [1.  0.3]    original:  [1.2734375  2.08007812] [2. 3.]\n",
      "Greece  x  South Korea :  [ 0.50048828 -0.21044922] - [1. 1.]  ...................  output (weighted):  [0.35546875 0.05004883] [0.  0.1]    original:  [0.7109375  0.50048828] [0. 1.]\n",
      "Morocco  x  Ivory Coast :  [2.38525391 2.41650391] - [1. 2.]  ...................  output (weighted):  [-0.015625    0.23852539] [-0.5  0.1]    original:  [-0.03125     2.38525391] [-1.  1.]\n",
      "Saudi Arabia  x  Finland :  [2.20947266 3.81103516] - [1. 1.]  ...................  output (weighted):  [-0.80078125  0.22094727] [0.  0.1]    original:  [-1.6015625   2.20947266] [0. 1.]\n",
      "Tunisia  x  Zambia :  [1.11816406 0.77441406] - [4. 1.]  ...................  output (weighted):  [0.171875   0.11181641] [1.5 0.4]    original:  [0.34375    1.11816406] [3. 4.]\n",
      "United States  x  Canada :  [2.265625  0.6015625] - [0. 0.]  ...................  output (weighted):  [0.83203125 0.2265625 ] [0. 0.]    original:  [1.6640625 2.265625 ] [0. 0.]\n",
      "Test:\n",
      "Denmark  x  Tunisia :  [1.69433594 1.14746094] - [0. 0.]  ...................  output (weighted):  [0.2734375  0.16943359] [0. 0.]    original:  [0.546875   1.69433594] [0. 0.]\n",
      "Mexico  x  Poland :  [2.27050781 2.19238281] - [0. 0.]  ...................  output (weighted):  [0.0390625  0.22705078] [0. 0.]    original:  [0.078125   2.27050781] [0. 0.]\n",
      "France  x  Australia :  [1.69677734 1.02490234] - [0. 0.]  ...................  output (weighted):  [0.3359375  0.16967773] [0. 0.]    original:  [0.671875   1.69677734] [0. 0.]\n",
      "Morocco  x  Croatia :  [1.44287109 1.84912109] - [0. 0.]  ...................  output (weighted):  [-0.203125    0.14428711] [0. 0.]    original:  [-0.40625     1.44287109] [0. 0.]\n",
      "Germany  x  Japan :  [2.62939453 2.11376953] - [0. 0.]  ...................  output (weighted):  [0.2578125  0.26293945] [0. 0.]    original:  [0.515625   2.62939453] [0. 0.]\n",
      "Spain  x  Costa Rica :  [2.30712891 0.42431641] - [0. 0.]  ...................  output (weighted):  [0.94140625 0.23071289] [0. 0.]    original:  [1.8828125  2.30712891] [0. 0.]\n",
      "Belgium  x  Canada :  [2.58789062 1.49414062] - [0. 0.]  ...................  output (weighted):  [0.546875   0.25878906] [0. 0.]    original:  [1.09375    2.58789062] [0. 0.]\n",
      "MLP\n",
      "9032 / 22240  - 1.62 points per match\n",
      "Val:\n",
      "United Arab Emirates  x  South Korea :  [3.07053383 6.26506151] - [1. 0.]  ...................  output (weighted):  [-1.59726384  0.30705338] [0.5 0.1]    original:  [-3.19452769  3.07053383] [1. 1.]\n",
      "Cameroon  x  Angola :  [ 1.35637406 -0.09296827] - [3. 1.]  ...................  output (weighted):  [0.72467117 0.13563741] [1.  0.3]    original:  [1.44934234 1.35637406] [2. 3.]\n",
      "Greece  x  South Korea :  [0.58950115 0.51437992] - [1. 1.]  ...................  output (weighted):  [0.03756061 0.05895012] [0.  0.1]    original:  [0.07512123 0.58950115] [0. 1.]\n",
      "Morocco  x  Ivory Coast :  [1.55399539 0.3148841 ] - [1. 2.]  ...................  output (weighted):  [0.61955565 0.15539954] [-0.5  0.1]    original:  [1.2391113  1.55399539] [-1.  1.]\n",
      "Saudi Arabia  x  Finland :  [3.70662373 6.67785473] - [1. 1.]  ...................  output (weighted):  [-1.4856155   0.37066237] [0.  0.1]    original:  [-2.97123099  3.70662373] [0. 1.]\n",
      "Tunisia  x  Zambia :  [1.01060368 0.70810159] - [4. 1.]  ...................  output (weighted):  [0.15125105 0.10106037] [1.5 0.4]    original:  [0.30250209 1.01060368] [3. 4.]\n",
      "United States  x  Canada :  [4.48012991 0.50358276] - [0. 0.]  ...................  output (weighted):  [1.98827358 0.44801299] [0. 0.]    original:  [3.97654716 4.48012991] [0. 0.]\n",
      "Test:\n",
      "Denmark  x  Tunisia :  [2.57686927 0.70916658] - [0. 0.]  ...................  output (weighted):  [0.93385135 0.25768693] [0. 0.]    original:  [1.8677027  2.57686927] [0. 0.]\n",
      "Mexico  x  Poland :  [1.73571574 0.40640801] - [0. 0.]  ...................  output (weighted):  [0.66465387 0.17357157] [0. 0.]    original:  [1.32930773 1.73571574] [0. 0.]\n",
      "France  x  Australia :  [ 0.67166936 -0.19471647] - [0. 0.]  ...................  output (weighted):  [0.43319292 0.06716694] [0. 0.]    original:  [0.86638583 0.67166936] [0. 0.]\n",
      "Morocco  x  Croatia :  [1.05720586 1.82844015] - [0. 0.]  ...................  output (weighted):  [-0.38561715  0.10572059] [0. 0.]    original:  [-0.7712343   1.05720586] [0. 0.]\n",
      "Germany  x  Japan :  [2.79932452 0.48592423] - [0. 0.]  ...................  output (weighted):  [1.15670014 0.27993245] [0. 0.]    original:  [2.31340029 2.79932452] [0. 0.]\n",
      "Spain  x  Costa Rica :  [2.42431347 0.26469649] - [0. 0.]  ...................  output (weighted):  [1.07980849 0.24243135] [0. 0.]    original:  [2.15961697 2.42431347] [0. 0.]\n",
      "Belgium  x  Canada :  [1.99986203 0.20167131] - [0. 0.]  ...................  output (weighted):  [0.89909536 0.1999862 ] [0. 0.]    original:  [1.79819071 1.99986203] [0. 0.]\n"
     ]
    }
   ],
   "source": [
    "from sklearn.model_selection import cross_val_score\n",
    "from sklearn.tree import DecisionTreeRegressor\n",
    "from sklearn.linear_model import LinearRegression\n",
    "from sklearn.svm import SVR\n",
    "from sklearn.neural_network import MLPRegressor\n",
    "from sklearn.metrics import make_scorer\n",
    "\n",
    "\n",
    "\n",
    "def show_predictions(X, Y, Y_pred, indexes, label_weights):\n",
    "    for i in indexes:\n",
    "        x = X[i]\n",
    "        home_team_part = x[:len(dataset.all_teams)]\n",
    "        away_team_part = x[len(dataset.all_teams):2*len(dataset.all_teams)]\n",
    "        home_team = dataset.all_teams[np.where(home_team_part == 1)[0][0]]\n",
    "        away_team = dataset.all_teams[np.where(away_team_part == 1)[0][0]]\n",
    "        print(home_team, \" x \", away_team, \": \", prediction_to_goals(Y_pred[i], label_weights), \"-\", prediction_to_goals(Y[i], label_weights), \" ...................  output (weighted): \", Y_pred[i], Y[i], \"   original: \", Y_pred[i]/label_weights, Y[i]/label_weights)\n",
    "\n",
    "\n",
    "def fit_simple_regressor(X_train, Y_train, X_val, Y_val, regressor, name: str, label_weights: list, show_predicted_indexes = [0, 1]):\n",
    "    regressor.fit(X_train, Y_train,  )\n",
    "    Y_val_pred = regressor.predict(X_val)\n",
    "    Y_test_pred = regressor.predict(X_test)\n",
    "    reg_score = score(np.round(Y_val_pred), Y_val, label_weights=label_weights)\n",
    "    print(name)\n",
    "    print(reg_score, \"/\", max_score, \" - %s points per match\" % (np.round(reg_score/len(Y_val), 2)))\n",
    "    \n",
    "    print(\"Val:\")\n",
    "    show_predictions(X_val, Y_val, Y_val_pred, show_predicted_indexes, label_weights)\n",
    "    print(\"Test:\")\n",
    "    show_predictions(X_test, np.zeros(Y_test_pred.shape), Y_test_pred, show_predicted_indexes, label_weights)\n",
    "    \n",
    "\n",
    "models = {\n",
    "    #\"Tree\": DecisionTreeRegressor(random_state=0),\n",
    "    \"Linear\": LinearRegression(),\n",
    "    \"MLP\": MLPRegressor(hidden_layer_sizes = (128, 32, 8), activation=\"relu\")\n",
    "}\n",
    "\n",
    "\n",
    "trainable = 0.1\n",
    "start = int((1 - trainable) * len(X_train))\n",
    "for name, model in models. items():\n",
    "    fit_simple_regressor(X_train[start:], Y_train[start:], X_val, Y_val, model, name, show_predicted_indexes = [r for r in range(5,12)], label_weights=dataset.label_weights)\n"
   ]
  }
 ],
 "metadata": {
  "kernelspec": {
   "display_name": "Python 3.10.4 64-bit ('aimatch')",
   "language": "python",
   "name": "python3"
  },
  "language_info": {
   "codemirror_mode": {
    "name": "ipython",
    "version": 3
   },
   "file_extension": ".py",
   "mimetype": "text/x-python",
   "name": "python",
   "nbconvert_exporter": "python",
   "pygments_lexer": "ipython3",
   "version": "3.10.4"
  },
  "orig_nbformat": 4,
  "vscode": {
   "interpreter": {
    "hash": "4a3365a4b8fa4d6ece79b74aaf4d470e19d76ad19faef395b86ac40fc70274d1"
   }
  }
 },
 "nbformat": 4,
 "nbformat_minor": 2
}
